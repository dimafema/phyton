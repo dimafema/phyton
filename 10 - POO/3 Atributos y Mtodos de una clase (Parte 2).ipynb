{
 "cells": [
  {
   "cell_type": "code",
   "execution_count": 1,
   "metadata": {},
   "outputs": [],
   "source": [
    "class Auto:\n",
    "    Rojo = False\n",
    "    \n",
    "    def __init__(self, puertas, color):\n",
    "        self.puertas = puertas\n",
    "        self.color = color\n",
    "        print(\"Se creo un Auto con puertas {} y color {}\".format(puertas, color))\n",
    "        \n",
    "    def Fabricar(self):\n",
    "        self.Rojo = True\n",
    "    \n",
    "    def confirmar_fabricacion(self):\n",
    "        if (self.Rojo):\n",
    "            print(\"auto coloreado rojo\")\n",
    "        else:\n",
    "            print(\"aun no esta coloreado\")"
   ]
  },
  {
   "cell_type": "code",
   "execution_count": 2,
   "metadata": {},
   "outputs": [
    {
     "name": "stdout",
     "output_type": "stream",
     "text": [
      "Se creo un Auto con puertas 2 y color Rojo\n"
     ]
    }
   ],
   "source": [
    "a = Auto(\"2\", \"Rojo\")"
   ]
  },
  {
   "cell_type": "code",
   "execution_count": 3,
   "metadata": {},
   "outputs": [
    {
     "ename": "TypeError",
     "evalue": "__init__() missing 2 required positional arguments: 'puertas' and 'color'",
     "output_type": "error",
     "traceback": [
      "\u001b[1;31m---------------------------------------------------------------------------\u001b[0m",
      "\u001b[1;31mTypeError\u001b[0m                                 Traceback (most recent call last)",
      "\u001b[1;32m<ipython-input-3-aa24cf8630d2>\u001b[0m in \u001b[0;36m<module>\u001b[1;34m\u001b[0m\n\u001b[1;32m----> 1\u001b[1;33m \u001b[0ma\u001b[0m \u001b[1;33m=\u001b[0m \u001b[0mAuto\u001b[0m\u001b[1;33m(\u001b[0m\u001b[1;33m)\u001b[0m\u001b[1;33m\u001b[0m\u001b[1;33m\u001b[0m\u001b[0m\n\u001b[0m",
      "\u001b[1;31mTypeError\u001b[0m: __init__() missing 2 required positional arguments: 'puertas' and 'color'"
     ]
    }
   ],
   "source": [
    "a = Auto()"
   ]
  },
  {
   "cell_type": "code",
   "execution_count": 4,
   "metadata": {},
   "outputs": [],
   "source": [
    "class Auto:\n",
    "    Rojo = False\n",
    "    \n",
    "    def __init__(self, puertas=None, color=None):\n",
    "        self.puertas = puertas\n",
    "        self.color = color\n",
    "        if puertas is not None and color is not None:\n",
    "            print(\"Se creo un Auto con puertas {} y color {}\".format(puertas, color))\n",
    "        \n",
    "    def Fabricar(self):\n",
    "        self.Rojo = True\n",
    "    \n",
    "    def confirmar_fabricacion(self):\n",
    "        if (self.Rojo):\n",
    "            print(\"auto coloreado rojo\")\n",
    "        else:\n",
    "            print(\"aun no esta coloreado\")"
   ]
  },
  {
   "cell_type": "code",
   "execution_count": 6,
   "metadata": {},
   "outputs": [
    {
     "name": "stdout",
     "output_type": "stream",
     "text": [
      "Se creo un Auto con puertas 2 y color Rojo\n"
     ]
    }
   ],
   "source": [
    "a = Auto(\"2\", \"Rojo\")"
   ]
  },
  {
   "cell_type": "code",
   "execution_count": null,
   "metadata": {},
   "outputs": [],
   "source": []
  }
 ],
 "metadata": {
  "kernelspec": {
   "display_name": "Python 3",
   "language": "python",
   "name": "python3"
  },
  "language_info": {
   "codemirror_mode": {
    "name": "ipython",
    "version": 3
   },
   "file_extension": ".py",
   "mimetype": "text/x-python",
   "name": "python",
   "nbconvert_exporter": "python",
   "pygments_lexer": "ipython3",
   "version": "3.7.3"
  }
 },
 "nbformat": 4,
 "nbformat_minor": 2
}
