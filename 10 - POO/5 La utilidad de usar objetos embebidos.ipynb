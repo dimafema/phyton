{
 "cells": [
  {
   "cell_type": "code",
   "execution_count": 1,
   "metadata": {},
   "outputs": [],
   "source": [
    "class Fabrica:\n",
    "    def __init__(self,tiempo,nombre,ruedas):\n",
    "        self.tiempo = tiempo\n",
    "        self.nombre = nombre\n",
    "        self.ruedas = ruedas\n",
    "        print(\"Se creo el auto\", self.nombre)\n",
    "        \n",
    "    def __str__(self):\n",
    "        return \"{}({})\".format(self.nombre,self.tiempo)"
   ]
  },
  {
   "cell_type": "code",
   "execution_count": 3,
   "metadata": {},
   "outputs": [],
   "source": [
    "class Listado:\n",
    "    \n",
    "    autos = []\n",
    "    \n",
    "    def __init__(self,autos=[]):\n",
    "        self.autos = autos\n",
    "    \n",
    "    def fabricar(self,x):\n",
    "        self.autos.append(x)\n",
    "    \n",
    "    def visualizar(self):\n",
    "        for x in self.autos:\n",
    "            print(x)"
   ]
  },
  {
   "cell_type": "code",
   "execution_count": 4,
   "metadata": {},
   "outputs": [
    {
     "name": "stdout",
     "output_type": "stream",
     "text": [
      "Se creo el auto Alvaro\n"
     ]
    }
   ],
   "source": [
    "a = Fabrica(10,\"Alvaro\",4)"
   ]
  },
  {
   "cell_type": "code",
   "execution_count": 6,
   "metadata": {},
   "outputs": [],
   "source": [
    "l = Listado([a])"
   ]
  },
  {
   "cell_type": "code",
   "execution_count": 7,
   "metadata": {},
   "outputs": [
    {
     "name": "stdout",
     "output_type": "stream",
     "text": [
      "Alvaro(10)\n"
     ]
    }
   ],
   "source": [
    "l.visualizar()"
   ]
  },
  {
   "cell_type": "code",
   "execution_count": 8,
   "metadata": {},
   "outputs": [
    {
     "name": "stdout",
     "output_type": "stream",
     "text": [
      "Se creo el auto Estudiantes\n"
     ]
    }
   ],
   "source": [
    "l.fabricar(Fabrica(15,\"Estudiantes\",2))"
   ]
  },
  {
   "cell_type": "code",
   "execution_count": 9,
   "metadata": {},
   "outputs": [
    {
     "name": "stdout",
     "output_type": "stream",
     "text": [
      "Alvaro(10)\n",
      "Estudiantes(15)\n"
     ]
    }
   ],
   "source": [
    "l.visualizar()"
   ]
  },
  {
   "cell_type": "code",
   "execution_count": null,
   "metadata": {},
   "outputs": [],
   "source": []
  }
 ],
 "metadata": {
  "kernelspec": {
   "display_name": "Python 3",
   "language": "python",
   "name": "python3"
  },
  "language_info": {
   "codemirror_mode": {
    "name": "ipython",
    "version": 3
   },
   "file_extension": ".py",
   "mimetype": "text/x-python",
   "name": "python",
   "nbconvert_exporter": "python",
   "pygments_lexer": "ipython3",
   "version": "3.7.3"
  }
 },
 "nbformat": 4,
 "nbformat_minor": 2
}
