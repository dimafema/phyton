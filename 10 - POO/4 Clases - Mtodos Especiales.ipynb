{
 "cells": [
  {
   "cell_type": "code",
   "execution_count": 1,
   "metadata": {},
   "outputs": [],
   "source": [
    "class Fabrica:\n",
    "    def __init__(self,tiempo,nombre,ruedas):\n",
    "        self.tiempo = tiempo\n",
    "        self.nombre = nombre\n",
    "        self.ruedas = ruedas\n",
    "        print(\"Se creo el auto\", self.nombre)\n",
    "        \n",
    "    def __del__(self):\n",
    "        print(\"Se elimino el auto\", self.nombre)"
   ]
  },
  {
   "cell_type": "code",
   "execution_count": 4,
   "metadata": {},
   "outputs": [
    {
     "name": "stdout",
     "output_type": "stream",
     "text": [
      "Se creo el auto Estudiantes\n",
      "Se elimino el auto Alvaro\n"
     ]
    }
   ],
   "source": [
    "a = Fabrica(10,\"Estudiantes\",4)"
   ]
  },
  {
   "cell_type": "code",
   "execution_count": 5,
   "metadata": {},
   "outputs": [
    {
     "data": {
      "text/plain": [
       "'10'"
      ]
     },
     "execution_count": 5,
     "metadata": {},
     "output_type": "execute_result"
    }
   ],
   "source": [
    "str(10)"
   ]
  },
  {
   "cell_type": "code",
   "execution_count": 6,
   "metadata": {},
   "outputs": [],
   "source": [
    "class Fabrica:\n",
    "    def __init__(self,tiempo,nombre,ruedas):\n",
    "        self.tiempo = tiempo\n",
    "        self.nombre = nombre\n",
    "        self.ruedas = ruedas\n",
    "        print(\"Se creo el auto\", self.nombre)\n",
    "        \n",
    "    def __del__(self):\n",
    "        print(\"Se elimino el auto\", self.nombre)\n",
    "        \n",
    "    def __str__(self):\n",
    "        return \"{} se fabrico con exito, en el tiempo {} y tiene esta cantidad de ruedas {}\".format(self.nombre,self.tiempo,self.ruedas)"
   ]
  },
  {
   "cell_type": "code",
   "execution_count": 7,
   "metadata": {},
   "outputs": [
    {
     "name": "stdout",
     "output_type": "stream",
     "text": [
      "Se creo el auto Estudiantes\n",
      "Se elimino el auto Estudiantes\n"
     ]
    }
   ],
   "source": [
    "a = Fabrica(10,\"Estudiantes\",4)"
   ]
  },
  {
   "cell_type": "code",
   "execution_count": 8,
   "metadata": {},
   "outputs": [
    {
     "data": {
      "text/plain": [
       "'Estudiantes se fabrico con exito, en el tiempo 10 y tiene esta cantidad de ruedas 4'"
      ]
     },
     "execution_count": 8,
     "metadata": {},
     "output_type": "execute_result"
    }
   ],
   "source": [
    "str(a)"
   ]
  },
  {
   "cell_type": "code",
   "execution_count": 9,
   "metadata": {},
   "outputs": [],
   "source": [
    "class Fabrica:\n",
    "    def __init__(self,tiempo,nombre,ruedas):\n",
    "        self.tiempo = tiempo\n",
    "        self.nombre = nombre\n",
    "        self.ruedas = ruedas\n",
    "        print(\"Se creo el auto\", self.nombre)\n",
    "        \n",
    "    def __del__(self):\n",
    "        print(\"Se elimino el auto\", self.nombre)\n",
    "        \n",
    "    def __str__(self):\n",
    "        return \"{} se fabrico con exito, en el tiempo {} y tiene esta cantidad de ruedas {}\".format(self.nombre,self.tiempo,self.ruedas)\n",
    "    \n",
    "    def __len__(self):\n",
    "        return self.tiempo"
   ]
  },
  {
   "cell_type": "code",
   "execution_count": 10,
   "metadata": {},
   "outputs": [
    {
     "name": "stdout",
     "output_type": "stream",
     "text": [
      "Se creo el auto Estudiantes\n",
      "Se elimino el auto Estudiantes\n"
     ]
    }
   ],
   "source": [
    "a = Fabrica(10,\"Estudiantes\",4)"
   ]
  },
  {
   "cell_type": "code",
   "execution_count": 11,
   "metadata": {},
   "outputs": [
    {
     "data": {
      "text/plain": [
       "10"
      ]
     },
     "execution_count": 11,
     "metadata": {},
     "output_type": "execute_result"
    }
   ],
   "source": [
    "len(a)"
   ]
  },
  {
   "cell_type": "code",
   "execution_count": null,
   "metadata": {},
   "outputs": [],
   "source": []
  }
 ],
 "metadata": {
  "kernelspec": {
   "display_name": "Python 3",
   "language": "python",
   "name": "python3"
  },
  "language_info": {
   "codemirror_mode": {
    "name": "ipython",
    "version": 3
   },
   "file_extension": ".py",
   "mimetype": "text/x-python",
   "name": "python",
   "nbconvert_exporter": "python",
   "pygments_lexer": "ipython3",
   "version": "3.7.3"
  }
 },
 "nbformat": 4,
 "nbformat_minor": 2
}
