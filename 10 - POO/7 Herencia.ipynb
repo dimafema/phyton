{
 "cells": [
  {
   "cell_type": "code",
   "execution_count": 1,
   "metadata": {},
   "outputs": [],
   "source": [
    "class Fabrica:\n",
    "    def __init__(self,marca,nombre,precio,descripcion,ruedas=None,distribuidor=None):\n",
    "        self.marca = marca\n",
    "        self.nombre = nombre\n",
    "        self.precio = precio\n",
    "        self.descripcion = descripcion\n",
    "        self.ruedas = ruedas\n",
    "        self.distribuidor = distribuidor\n",
    "        \n",
    "Auto = Fabrica('Ford','Ranger','Camioneta 4x4',4)   "
   ]
  },
  {
   "cell_type": "code",
   "execution_count": 2,
   "metadata": {},
   "outputs": [
    {
     "data": {
      "text/plain": [
       "'Ranger'"
      ]
     },
     "execution_count": 2,
     "metadata": {},
     "output_type": "execute_result"
    }
   ],
   "source": [
    "Auto.nombre"
   ]
  },
  {
   "cell_type": "code",
   "execution_count": 7,
   "metadata": {},
   "outputs": [],
   "source": [
    "class Fabrica:\n",
    "    def __init__(self,marca,nombre,precio,descripcion):\n",
    "        self.marca = marca\n",
    "        self.nombre = nombre\n",
    "        self.precio = precio\n",
    "        self.descripcion = descripcion\n",
    "\n",
    "    def __str__(self):\n",
    "        return \"\"\"\\\n",
    "MARCA\\t\\t{}\n",
    "NOMBRE\\t\\t{}\n",
    "PRECIO\\t\\t{}\n",
    "DESCRIPCIÓN\\t{}\"\"\".format(self.marca,self.nombre,self.precio,self.descripcion)"
   ]
  },
  {
   "cell_type": "code",
   "execution_count": 8,
   "metadata": {},
   "outputs": [
    {
     "name": "stdout",
     "output_type": "stream",
     "text": [
      "MARCA\t\tFord\n",
      "NOMBRE\t\tRanger\n",
      "PRECIO\t\t100.0\n",
      "DESCRIPCIÓN\tCamionera\n"
     ]
    }
   ],
   "source": [
    "class Auto(Fabrica):\n",
    "    pass\n",
    "\n",
    "z = Auto('Ford','Ranger',100.000,'Camionera')\n",
    "print(z)"
   ]
  },
  {
   "cell_type": "code",
   "execution_count": 16,
   "metadata": {},
   "outputs": [],
   "source": [
    "class Deportivo(Fabrica):\n",
    "    ruedas = \"\"\n",
    "    distribuidor = \"\"\n",
    "    \n",
    "    def __str__(self):\n",
    "        return \"\"\"\\\n",
    "MARCA\\t\\t{}\n",
    "NOMBRE\\t\\t{}\n",
    "PRECIO\\t\\t{}\n",
    "DESCRIPCIÓN\\t{}\n",
    "RUEDAS\\t\\t{}\n",
    "DISTRIBUIDOR\\t{}\"\"\".format(self.marca,self.nombre,self.precio,self.descripcion,self.ruedas,self.distribuidor)\n",
    "        "
   ]
  },
  {
   "cell_type": "code",
   "execution_count": 17,
   "metadata": {},
   "outputs": [],
   "source": [
    "deportivo = Deportivo('Volkswagen','Vento', 54000,'El mejor')\n",
    "deportivo.ruedas = 3\n",
    "deportivo.distribuidor = 'Tu autito'"
   ]
  },
  {
   "cell_type": "code",
   "execution_count": 18,
   "metadata": {},
   "outputs": [
    {
     "name": "stdout",
     "output_type": "stream",
     "text": [
      "MARCA\t\tVolkswagen\n",
      "NOMBRE\t\tVento\n",
      "PRECIO\t\t54000\n",
      "DESCRIPCIÓN\tEl mejor\n",
      "RUEDAS\t\t3\n",
      "DISTRIBUIDOR\tTu autito\n"
     ]
    }
   ],
   "source": [
    "print(deportivo)"
   ]
  },
  {
   "cell_type": "code",
   "execution_count": null,
   "metadata": {},
   "outputs": [],
   "source": []
  }
 ],
 "metadata": {
  "kernelspec": {
   "display_name": "Python 3",
   "language": "python",
   "name": "python3"
  },
  "language_info": {
   "codemirror_mode": {
    "name": "ipython",
    "version": 3
   },
   "file_extension": ".py",
   "mimetype": "text/x-python",
   "name": "python",
   "nbconvert_exporter": "python",
   "pygments_lexer": "ipython3",
   "version": "3.7.3"
  }
 },
 "nbformat": 4,
 "nbformat_minor": 2
}
