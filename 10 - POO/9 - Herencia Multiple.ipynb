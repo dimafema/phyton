{
 "cells": [
  {
   "cell_type": "code",
   "execution_count": 9,
   "metadata": {},
   "outputs": [],
   "source": [
    "class Primera:\n",
    "    def __init__(self):\n",
    "        print(\"Yo soy la primer clase\")\n",
    "    \n",
    "    def primera(self):\n",
    "        print(\"Este es el metodo heredado de Primera\")\n",
    "    \n",
    "class Segunda:\n",
    "    def __init__(self):\n",
    "        print(\"Yo soy la Segunda clase\")\n",
    "    def segunda(self):\n",
    "        print(\"Este es el metodo heredado de Segunda\")\n",
    "class Tercera(Segunda, Primera):\n",
    "   def tercera(self):\n",
    "        print(\"Este es el metodo heredado de Tercera\")"
   ]
  },
  {
   "cell_type": "code",
   "execution_count": 10,
   "metadata": {},
   "outputs": [
    {
     "name": "stdout",
     "output_type": "stream",
     "text": [
      "Yo soy la Segunda clase\n"
     ]
    }
   ],
   "source": [
    "herencia_multiple = Tercera()"
   ]
  },
  {
   "cell_type": "code",
   "execution_count": 12,
   "metadata": {},
   "outputs": [
    {
     "name": "stdout",
     "output_type": "stream",
     "text": [
      "Este es el metodo heredado de Primera\n"
     ]
    }
   ],
   "source": [
    "herencia_multiple.primera()"
   ]
  },
  {
   "cell_type": "code",
   "execution_count": 13,
   "metadata": {},
   "outputs": [
    {
     "name": "stdout",
     "output_type": "stream",
     "text": [
      "Este es el metodo heredado de Segunda\n"
     ]
    }
   ],
   "source": [
    "herencia_multiple.segunda()"
   ]
  },
  {
   "cell_type": "code",
   "execution_count": 14,
   "metadata": {},
   "outputs": [
    {
     "name": "stdout",
     "output_type": "stream",
     "text": [
      "Este es el metodo heredado de Tercera\n"
     ]
    }
   ],
   "source": [
    "herencia_multiple.tercera()"
   ]
  },
  {
   "cell_type": "code",
   "execution_count": null,
   "metadata": {},
   "outputs": [],
   "source": []
  }
 ],
 "metadata": {
  "kernelspec": {
   "display_name": "Python 3",
   "language": "python",
   "name": "python3"
  },
  "language_info": {
   "codemirror_mode": {
    "name": "ipython",
    "version": 3
   },
   "file_extension": ".py",
   "mimetype": "text/x-python",
   "name": "python",
   "nbconvert_exporter": "python",
   "pygments_lexer": "ipython3",
   "version": "3.7.3"
  }
 },
 "nbformat": 4,
 "nbformat_minor": 2
}
