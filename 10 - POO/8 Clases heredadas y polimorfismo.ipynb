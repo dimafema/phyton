{
 "cells": [
  {
   "cell_type": "code",
   "execution_count": 1,
   "metadata": {},
   "outputs": [],
   "source": [
    "class Fabrica:\n",
    "    def __init__(self,marca,nombre,precio,descripcion):\n",
    "        self.marca = marca\n",
    "        self.nombre = nombre\n",
    "        self.precio = precio\n",
    "        self.descripcion = descripcion\n",
    "\n",
    "    def __str__(self):\n",
    "        return \"\"\"\\\n",
    "MARCA\\t\\t{}\n",
    "NOMBRE\\t\\t{}\n",
    "PRECIO\\t\\t{}\n",
    "DESCRIPCIÓN\\t{}\"\"\".format(self.marca,self.nombre,self.precio,self.descripcion)\n",
    "    \n",
    "class Auto(Fabrica):\n",
    "    pass\n",
    "\n",
    "class Deportivo(Fabrica):\n",
    "    ruedas = \"\"\n",
    "    distribuidor = \"\"\n",
    "    \n",
    "    def __str__(self):\n",
    "        return \"\"\"\\\n",
    "MARCA\\t\\t{}\n",
    "NOMBRE\\t\\t{}\n",
    "PRECIO\\t\\t{}\n",
    "DESCRIPCIÓN\\t{}\n",
    "RUEDAS\\t\\t{}\n",
    "DISTRIBUIDOR\\t{}\"\"\".format(self.marca,self.nombre,self.precio,self.descripcion,self.ruedas,self.distribuidor)\n",
    "\n",
    "class Accesorios(Fabrica):\n",
    "    autor = \"\"\n",
    "    fabricante = \"\"\n",
    "    \n",
    "    def __str__(self):\n",
    "        return \"\"\"\\\n",
    "MARCA\\t\\t{}\n",
    "NOMBRE\\t\\t{}\n",
    "PRECIO\\t\\t{}\n",
    "DESCRIPCIÓN\\t{}\n",
    "AUTOR\\t\\t{}\n",
    "FABRICANTE\\t{}\"\"\".format(self.marca,self.nombre,self.precio,self.descripcion,self.autor,self.fabricante)\n",
    "    "
   ]
  },
  {
   "cell_type": "code",
   "execution_count": 2,
   "metadata": {},
   "outputs": [],
   "source": [
    "a = Auto('Ford','Ranger',100000,'Camioneta')\n",
    "\n",
    "deportivo = Deportivo('Volkswagen','Vento', 54000,'El mejor')\n",
    "deportivo.ruedas = 3\n",
    "deportivo.distribuidor = 'Tu autito'\n",
    "\n",
    "accesorios = Accesorios('Fiat','Luces de neon',10000,'Iluminan mejor')\n",
    "accesorios.autor = 'Vos'\n",
    "accesorios.fabricante = 'Yo'"
   ]
  },
  {
   "cell_type": "code",
   "execution_count": 3,
   "metadata": {},
   "outputs": [],
   "source": [
    "fabrica = [accesorios, deportivo]"
   ]
  },
  {
   "cell_type": "code",
   "execution_count": 4,
   "metadata": {},
   "outputs": [],
   "source": [
    "fabrica.append(a)"
   ]
  },
  {
   "cell_type": "code",
   "execution_count": 5,
   "metadata": {},
   "outputs": [
    {
     "data": {
      "text/plain": [
       "[<__main__.Accesorios at 0x2028ca3fc50>,\n",
       " <__main__.Deportivo at 0x2028ca3fef0>,\n",
       " <__main__.Auto at 0x2028ca3ff28>]"
      ]
     },
     "execution_count": 5,
     "metadata": {},
     "output_type": "execute_result"
    }
   ],
   "source": [
    "fabrica"
   ]
  },
  {
   "cell_type": "code",
   "execution_count": 6,
   "metadata": {},
   "outputs": [
    {
     "name": "stdout",
     "output_type": "stream",
     "text": [
      "MARCA\t\tFiat\n",
      "NOMBRE\t\tLuces de neon\n",
      "PRECIO\t\t10000\n",
      "DESCRIPCIÓN\tIluminan mejor\n",
      "AUTOR\t\tVos\n",
      "FABRICANTE\tYo \n",
      "\n",
      "MARCA\t\tVolkswagen\n",
      "NOMBRE\t\tVento\n",
      "PRECIO\t\t54000\n",
      "DESCRIPCIÓN\tEl mejor\n",
      "RUEDAS\t\t3\n",
      "DISTRIBUIDOR\tTu autito \n",
      "\n",
      "MARCA\t\tFord\n",
      "NOMBRE\t\tRanger\n",
      "PRECIO\t\t100000\n",
      "DESCRIPCIÓN\tCamioneta \n",
      "\n"
     ]
    }
   ],
   "source": [
    "for x in fabrica:\n",
    "    print(x,\"\\n\")"
   ]
  },
  {
   "cell_type": "code",
   "execution_count": 7,
   "metadata": {},
   "outputs": [
    {
     "name": "stdout",
     "output_type": "stream",
     "text": [
      "Fiat 10000\n",
      "Volkswagen 54000\n",
      "Ford 100000\n"
     ]
    }
   ],
   "source": [
    "for x in fabrica:\n",
    "    print(x.marca,x.precio)"
   ]
  },
  {
   "cell_type": "code",
   "execution_count": 8,
   "metadata": {},
   "outputs": [
    {
     "name": "stdout",
     "output_type": "stream",
     "text": [
      "Vos\n"
     ]
    },
    {
     "ename": "AttributeError",
     "evalue": "'Deportivo' object has no attribute 'autor'",
     "output_type": "error",
     "traceback": [
      "\u001b[1;31m---------------------------------------------------------------------------\u001b[0m",
      "\u001b[1;31mAttributeError\u001b[0m                            Traceback (most recent call last)",
      "\u001b[1;32m<ipython-input-8-c2357622f23b>\u001b[0m in \u001b[0;36m<module>\u001b[1;34m\u001b[0m\n\u001b[0;32m      1\u001b[0m \u001b[1;32mfor\u001b[0m \u001b[0mx\u001b[0m \u001b[1;32min\u001b[0m \u001b[0mfabrica\u001b[0m\u001b[1;33m:\u001b[0m\u001b[1;33m\u001b[0m\u001b[1;33m\u001b[0m\u001b[0m\n\u001b[1;32m----> 2\u001b[1;33m     \u001b[0mprint\u001b[0m\u001b[1;33m(\u001b[0m\u001b[0mx\u001b[0m\u001b[1;33m.\u001b[0m\u001b[0mautor\u001b[0m\u001b[1;33m)\u001b[0m\u001b[1;33m\u001b[0m\u001b[1;33m\u001b[0m\u001b[0m\n\u001b[0m",
      "\u001b[1;31mAttributeError\u001b[0m: 'Deportivo' object has no attribute 'autor'"
     ]
    }
   ],
   "source": [
    "for x in fabrica:\n",
    "    print(x.autor)"
   ]
  },
  {
   "cell_type": "code",
   "execution_count": 9,
   "metadata": {},
   "outputs": [
    {
     "name": "stdout",
     "output_type": "stream",
     "text": [
      "Fiat Luces de neon Yo\n",
      "Volkswagen Vento 3\n",
      "Ford Ranger\n"
     ]
    }
   ],
   "source": [
    "for x in fabrica:\n",
    "    if( isinstance(x, Auto) ):\n",
    "        print(x.marca,x.nombre)\n",
    "    elif( isinstance(x, Deportivo) ):\n",
    "        print(x.marca,x.nombre,x.ruedas)\n",
    "    elif( isinstance(x, Accesorios) ):\n",
    "        print(x.marca,x.nombre,x.fabricante)       "
   ]
  },
  {
   "cell_type": "code",
   "execution_count": 10,
   "metadata": {},
   "outputs": [],
   "source": [
    "def Descuento_accesorio(t, descuento):\n",
    "    \n",
    "    t.precio = t.precio - (t.precio/100 * descuento)"
   ]
  },
  {
   "cell_type": "code",
   "execution_count": 16,
   "metadata": {},
   "outputs": [],
   "source": [
    "Descuento_accesorio(accesorios, 10)\n"
   ]
  },
  {
   "cell_type": "code",
   "execution_count": 17,
   "metadata": {},
   "outputs": [
    {
     "data": {
      "text/plain": [
       "8100.0"
      ]
     },
     "execution_count": 17,
     "metadata": {},
     "output_type": "execute_result"
    }
   ],
   "source": [
    "accesorios.precio"
   ]
  },
  {
   "cell_type": "code",
   "execution_count": 14,
   "metadata": {},
   "outputs": [],
   "source": [
    "import copy\n",
    "\n",
    "copia_deportivo = copy.copy(accesorios)"
   ]
  },
  {
   "cell_type": "code",
   "execution_count": 18,
   "metadata": {},
   "outputs": [
    {
     "name": "stdout",
     "output_type": "stream",
     "text": [
      "MARCA\t\tFiat\n",
      "NOMBRE\t\tLuces de neon\n",
      "PRECIO\t\t9000.0\n",
      "DESCRIPCIÓN\tIluminan mejor\n",
      "AUTOR\t\tVos\n",
      "FABRICANTE\tYo\n"
     ]
    }
   ],
   "source": [
    "print(copia_deportivo)"
   ]
  },
  {
   "cell_type": "code",
   "execution_count": null,
   "metadata": {},
   "outputs": [],
   "source": [
    "descuento = 10\n",
    "a.precio = a.precio - (a.precio/100 * descuento)"
   ]
  },
  {
   "cell_type": "code",
   "execution_count": null,
   "metadata": {},
   "outputs": [],
   "source": [
    "a.precio"
   ]
  },
  {
   "cell_type": "code",
   "execution_count": null,
   "metadata": {},
   "outputs": [],
   "source": []
  }
 ],
 "metadata": {
  "kernelspec": {
   "display_name": "Python 3",
   "language": "python",
   "name": "python3"
  },
  "language_info": {
   "codemirror_mode": {
    "name": "ipython",
    "version": 3
   },
   "file_extension": ".py",
   "mimetype": "text/x-python",
   "name": "python",
   "nbconvert_exporter": "python",
   "pygments_lexer": "ipython3",
   "version": "3.7.3"
  }
 },
 "nbformat": 4,
 "nbformat_minor": 2
}
