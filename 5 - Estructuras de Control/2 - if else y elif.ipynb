{
 "cells": [
  {
   "cell_type": "code",
   "execution_count": 3,
   "metadata": {},
   "outputs": [],
   "source": [
    "alvaro = 13"
   ]
  },
  {
   "cell_type": "code",
   "execution_count": 4,
   "metadata": {
    "tags": []
   },
   "outputs": [
    {
     "output_type": "stream",
     "name": "stdout",
     "text": "el resto no es cero\n"
    }
   ],
   "source": [
    "if alvaro % 2 == 0: # hemos dividido la variable alvaro entre dos y no da como resultado 0\n",
    "    print ('el resto es 0')\n",
    "else:\n",
    "    print('el resto no es cero')"
   ]
  },
  {
   "cell_type": "code",
   "execution_count": 5,
   "metadata": {
    "tags": []
   },
   "outputs": [
    {
     "output_type": "stream",
     "name": "stdout",
     "text": "Esto es algo cuando no da ningun resultado\n"
    }
   ],
   "source": [
    "frase = \"Alvaro\"\n",
    "if frase == \"Entrar\":\n",
    "    print('Bienvenid@s')\n",
    "elif frase == 'hola':\n",
    "    print('nos estan saludando')\n",
    "else:\n",
    "    print('Esto es algo cuando no da ningun resultado') #como no cumple coge esta última opción"
   ]
  },
  {
   "cell_type": "code",
   "execution_count": 11,
   "metadata": {
    "tags": []
   },
   "outputs": [
    {
     "output_type": "stream",
     "name": "stdout",
     "text": "Tuviste que haber estudiando en el curso de Python de Alvaro!\n"
    }
   ],
   "source": [
    "final = float(input('coloca la nota: '))# le ingresamos datos\n",
    "if final >= 9:\n",
    "    print('eres un genio')\n",
    "elif final >= 7:\n",
    "    print('Aprobaste!')\n",
    "elif final == 6:\n",
    "    print('Te falto poco!')\n",
    "elif final <= 5:\n",
    "    print('Tuviste que haber estudiando en el curso de Python de Alvaro!')\n",
    "else:\n",
    "    print('No se donde estudias porque la nota que pusiste no la puedo evaluar')"
   ]
  },
  {
   "cell_type": "code",
   "execution_count": null,
   "metadata": {},
   "outputs": [],
   "source": []
  },
  {
   "cell_type": "code",
   "execution_count": null,
   "metadata": {},
   "outputs": [],
   "source": []
  }
 ],
 "metadata": {
  "kernelspec": {
   "display_name": "Python 3",
   "language": "python",
   "name": "python3"
  },
  "language_info": {
   "codemirror_mode": {
    "name": "ipython",
    "version": 3
   },
   "file_extension": ".py",
   "mimetype": "text/x-python",
   "name": "python",
   "nbconvert_exporter": "python",
   "pygments_lexer": "ipython3",
   "version": "2.7.15-final"
  }
 },
 "nbformat": 4,
 "nbformat_minor": 2
}