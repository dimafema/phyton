{
 "cells": [
  {
   "cell_type": "code",
   "execution_count": 1,
   "metadata": {},
   "outputs": [
    {
     "name": "stdout",
     "output_type": "stream",
     "text": [
      "Elige tu propio camino\n",
      "Escribe empezar para iniciar el programa: empezar\n",
      " ¿Que camino quieres elegir?\n",
      "    escribe la opcion con numero\n",
      "    1 - Quiero que me saludes\n",
      "    2 - Deseo multiplicar ya que no se como hacerlo\n",
      "    3 - quiero salir de este programa, ya que aprendi a multiplicar con el curso de Alvaro \n",
      "3\n",
      "Excelente decision que hayas tomado el curso de alvaro\n"
     ]
    }
   ],
   "source": [
    "print('Elige tu propio camino')\n",
    "inicio = input(\"Escribe empezar para iniciar el programa: \")\n",
    "while (inicio == 'empezar'):\n",
    "    print(\"\"\" ¿Que camino quieres elegir?\n",
    "    escribe la opcion con numero\n",
    "    1 - Quiero que me saludes\n",
    "    2 - Deseo multiplicar ya que no se como hacerlo\n",
    "    3 - quiero salir de este programa, ya que aprendi a multiplicar con el curso de Alvaro \"\"\")\n",
    "    opcion = input()\n",
    "    if opcion == '1':\n",
    "        print(\"Te saludo\")\n",
    "    elif opcion == '2':\n",
    "        numero1 = float(input('introduce el valor a multiplicar primero: '))\n",
    "        numero2 = float(input('introduce el valor a multiplicar segundo: '))\n",
    "        print('El resultado es: ', numero1*numero2)\n",
    "    elif opcion == '3':\n",
    "        print('Excelente decision que hayas tomado el curso de alvaro')\n",
    "        break\n",
    "    else:\n",
    "        print('No se que elegiste, tuviste que haber puesto algun numero de las opciones, se nota que no tomaste el curso de alvaro')\n",
    "        "
   ]
  },
  {
   "cell_type": "code",
   "execution_count": null,
   "metadata": {},
   "outputs": [],
   "source": []
  }
 ],
 "metadata": {
  "kernelspec": {
   "display_name": "Python 3",
   "language": "python",
   "name": "python3"
  },
  "language_info": {
   "codemirror_mode": {
    "name": "ipython",
    "version": 3
   },
   "file_extension": ".py",
   "mimetype": "text/x-python",
   "name": "python",
   "nbconvert_exporter": "python",
   "pygments_lexer": "ipython3",
   "version": "3.7.3"
  }
 },
 "nbformat": 4,
 "nbformat_minor": 2
}
