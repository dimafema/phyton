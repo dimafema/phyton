{
 "cells": [
  {
   "cell_type": "code",
   "execution_count": 9,
   "metadata": {},
   "outputs": [
    {
     "output_type": "stream",
     "name": "stdout",
     "text": "Imprimo esto porque la evaluacion fue verdadera\n"
    }
   ],
   "source": [
    "if True:\n",
    "    print('Imprimo esto porque la evaluacion fue verdadera')"
   ]
  },
  {
   "cell_type": "code",
   "execution_count": 10,
   "metadata": {},
   "outputs": [
    {
     "output_type": "error",
     "ename": "IndentationError",
     "evalue": "expected an indented block (<ipython-input-10-a4a92588f43d>, line 2)",
     "traceback": [
      "\u001b[0;36m  File \u001b[0;32m\"<ipython-input-10-a4a92588f43d>\"\u001b[0;36m, line \u001b[0;32m2\u001b[0m\n\u001b[0;31m    print('Imprimo esto porque la evaluacion fue verdadera')\u001b[0m\n\u001b[0m        ^\u001b[0m\n\u001b[0;31mIndentationError\u001b[0m\u001b[0;31m:\u001b[0m expected an indented block\n"
     ]
    }
   ],
   "source": [
    "if True:\n",
    "print('Imprimo esto porque la evaluacion fue verdadera')"
   ]
  },
  {
   "cell_type": "code",
   "execution_count": 11,
   "metadata": {},
   "outputs": [],
   "source": [
    "if False:\n",
    "    print('Imprimo esto porque la evaluacion fue verdadera')"
   ]
  },
  {
   "cell_type": "code",
   "execution_count": 12,
   "metadata": {},
   "outputs": [
    {
     "output_type": "stream",
     "name": "stdout",
     "text": "Alvaro Vale 67\nAlvaro Vale 10\n"
    }
   ],
   "source": [
    "Alvaro = 10\n",
    "if Alvaro == 10:\n",
    "    print('Alvaro Vale 67')\n",
    "if Alvaro == 10:\n",
    "    print('Alvaro Vale 10')"
   ]
  },
  {
   "cell_type": "code",
   "execution_count": 13,
   "metadata": {},
   "outputs": [
    {
     "output_type": "stream",
     "name": "stdout",
     "text": "Alvaro Vale 67\nAlvaro Vale 10\n"
    }
   ],
   "source": [
    "if Alvaro == 10:\n",
    "    print('Alvaro Vale 67')\n",
    "    if Alvaro == 10:\n",
    "        print('Alvaro Vale 10')"
   ]
  },
  {
   "cell_type": "code",
   "execution_count": 14,
   "metadata": {},
   "outputs": [],
   "source": [
    "if Alvaro == 11:\n",
    "    print('Alvaro Vale 67')\n",
    "    if Alvaro == 10:\n",
    "        print('Alvaro Vale 10')"
   ]
  },
  {
   "cell_type": "code",
   "execution_count": 15,
   "metadata": {},
   "outputs": [],
   "source": [
    "if Alvaro == 11 and Alvaro == 10:\n",
    "    print ('entro')"
   ]
  },
  {
   "cell_type": "code",
   "execution_count": 16,
   "metadata": {},
   "outputs": [
    {
     "output_type": "stream",
     "name": "stdout",
     "text": "entro\n"
    }
   ],
   "source": [
    "if Alvaro == 11 or Alvaro == 10:\n",
    "    print ('entro')"
   ]
  },
  {
   "cell_type": "code",
   "execution_count": null,
   "metadata": {},
   "outputs": [],
   "source": []
  }
 ],
 "metadata": {
  "kernelspec": {
   "display_name": "Python 3",
   "language": "python",
   "name": "python3"
  },
  "language_info": {
   "codemirror_mode": {
    "name": "ipython",
    "version": 3
   },
   "file_extension": ".py",
   "mimetype": "text/x-python",
   "name": "python",
   "nbconvert_exporter": "python",
   "pygments_lexer": "ipython3",
   "version": "3.5.2-final"
  }
 },
 "nbformat": 4,
 "nbformat_minor": 2
}