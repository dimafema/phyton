{
 "cells": [
  {
   "cell_type": "code",
   "execution_count": 9,
   "metadata": {
    "tags": []
   },
   "outputs": [
    {
     "output_type": "stream",
     "name": "stdout",
     "text": "La multiplicación por si mismo es:  1\nLa multiplicación por si mismo es:  4\nLa multiplicación por si mismo es:  9\nLa multiplicación por si mismo es:  16\nLa multiplicación por si mismo es:  25\nLa multiplicación por si mismo es:  36\n"
    }
   ],
   "source": [
    "iteracion = 0  # while nos permite iterar con la programación\n",
    "while iteracion <= 5:\n",
    "    iteracion += 1\n",
    "    resultado = iteracion * iteracion\n",
    "    print('La multiplicación por si mismo es: ',resultado)# mientras se cumpla la condición el while va a entrar"
   ]
  },
  {
   "cell_type": "code",
   "execution_count": 5,
   "metadata": {},
   "outputs": [
    {
     "name": "stdout",
     "output_type": "stream",
     "text": [
      "Imprimo esto porque se termino y es el else\n"
     ]
    }
   ],
   "source": [
    "iteracion = 1\n",
    "while iteracion <= 0:\n",
    "    iteracion += 1\n",
    "    print('Estoy iterando, van = ',iteracion)\n",
    "else:\n",
    "    print('Imprimo esto porque se termino y es el else')"
   ]
  },
  {
   "cell_type": "code",
   "execution_count": 12,
   "metadata": {
    "tags": []
   },
   "outputs": [
    {
     "output_type": "stream",
     "name": "stdout",
     "text": "Estoy iterando, van =  1\n"
    }
   ],
   "source": [
    "iteracion = 0\n",
    "while iteracion <= 10:\n",
    "    iteracion += 1\n",
    "    print('Estoy iterando, van = ',iteracion)\n",
    "    break # break sale del ciclo, al meter el break solo se ejecuta un ciclo\n",
    "else:\n",
    "    print('Imprimo esto porque se termino y es el else')"
   ]
  },
  {
   "cell_type": "code",
   "execution_count": 13,
   "metadata": {
    "tags": []
   },
   "outputs": [
    {
     "output_type": "stream",
     "name": "stdout",
     "text": "Estoy iterando, van =  4\n"
    }
   ],
   "source": [
    "iteracion = 0\n",
    "while iteracion <= 10:\n",
    "    iteracion += 1\n",
    "    if (iteracion == 4):\n",
    "        print('Estoy iterando, van = ',iteracion)\n",
    "        break\n",
    "else:\n",
    "    print('Imprimo esto porque se termino y es el else')"
   ]
  },
  {
   "cell_type": "code",
   "execution_count": 14,
   "metadata": {
    "tags": []
   },
   "outputs": [
    {
     "output_type": "stream",
     "name": "stdout",
     "text": "Estoy iterando, van =  4\nImprimo esto porque se termino y es el else\n"
    }
   ],
   "source": [
    "iteracion = 0\n",
    "while iteracion <= 10:\n",
    "    iteracion += 1\n",
    "    if (iteracion == 4):\n",
    "        print('Estoy iterando, van = ',iteracion)\n",
    "else:\n",
    "    print('Imprimo esto porque se termino y es el else')"
   ]
  },
  {
   "cell_type": "code",
   "execution_count": null,
   "metadata": {},
   "outputs": [],
   "source": []
  }
 ],
 "metadata": {
  "kernelspec": {
   "display_name": "Python 3",
   "language": "python",
   "name": "python3"
  },
  "language_info": {
   "codemirror_mode": {
    "name": "ipython",
    "version": 3
   },
   "file_extension": ".py",
   "mimetype": "text/x-python",
   "name": "python",
   "nbconvert_exporter": "python",
   "pygments_lexer": "ipython3",
   "version": "2.7.15-final"
  }
 },
 "nbformat": 4,
 "nbformat_minor": 2
}