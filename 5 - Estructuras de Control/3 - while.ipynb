{
 "cells": [
  {
   "cell_type": "code",
   "execution_count": 2,
   "metadata": {},
   "outputs": [
    {
     "name": "stdout",
     "output_type": "stream",
     "text": [
      "Estoy iterando, van =  1\n",
      "Estoy iterando, van =  2\n",
      "Estoy iterando, van =  3\n",
      "Estoy iterando, van =  4\n"
     ]
    }
   ],
   "source": [
    "iteracion = 0\n",
    "while iteracion <= 3:\n",
    "    iteracion += 1\n",
    "    print('Estoy iterando, van = ',iteracion)"
   ]
  },
  {
   "cell_type": "code",
   "execution_count": 5,
   "metadata": {},
   "outputs": [
    {
     "name": "stdout",
     "output_type": "stream",
     "text": [
      "Imprimo esto porque se termino y es el else\n"
     ]
    }
   ],
   "source": [
    "iteracion = 1\n",
    "while iteracion <= 0:\n",
    "    iteracion += 1\n",
    "    print('Estoy iterando, van = ',iteracion)\n",
    "else:\n",
    "    print('Imprimo esto porque se termino y es el else')"
   ]
  },
  {
   "cell_type": "code",
   "execution_count": 7,
   "metadata": {},
   "outputs": [
    {
     "name": "stdout",
     "output_type": "stream",
     "text": [
      "Imprimo esto porque se termino y es el else\n"
     ]
    }
   ],
   "source": [
    "iteracion = 1\n",
    "while iteracion <= 0:\n",
    "    iteracion += 1\n",
    "    print('Estoy iterando, van = ',iteracion)\n",
    "    break\n",
    "else:\n",
    "    print('Imprimo esto porque se termino y es el else')"
   ]
  },
  {
   "cell_type": "code",
   "execution_count": 12,
   "metadata": {},
   "outputs": [
    {
     "name": "stdout",
     "output_type": "stream",
     "text": [
      "Estoy iterando, van =  4\n",
      "Imprimo esto porque se termino y es el else\n"
     ]
    }
   ],
   "source": [
    "iteracion = 0\n",
    "while iteracion <= 10:\n",
    "    iteracion += 1\n",
    "    if (iteracion == 4):\n",
    "        print('Estoy iterando, van = ',iteracion)\n",
    "        \n",
    "else:\n",
    "    print('Imprimo esto porque se termino y es el else')"
   ]
  },
  {
   "cell_type": "code",
   "execution_count": null,
   "metadata": {},
   "outputs": [],
   "source": []
  }
 ],
 "metadata": {
  "kernelspec": {
   "display_name": "Python 3",
   "language": "python",
   "name": "python3"
  },
  "language_info": {
   "codemirror_mode": {
    "name": "ipython",
    "version": 3
   },
   "file_extension": ".py",
   "mimetype": "text/x-python",
   "name": "python",
   "nbconvert_exporter": "python",
   "pygments_lexer": "ipython3",
   "version": "3.7.3"
  }
 },
 "nbformat": 4,
 "nbformat_minor": 2
}
