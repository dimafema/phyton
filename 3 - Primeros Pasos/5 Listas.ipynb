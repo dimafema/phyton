{
 "cells": [
  {
   "cell_type": "code",
   "execution_count": 1,
   "metadata": {},
   "outputs": [],
   "source": [
    "listas = [5,9,\"Alvaro\",-8,\"estudiantes\"]"
   ]
  },
  {
   "cell_type": "code",
   "execution_count": 2,
   "metadata": {},
   "outputs": [
    {
     "output_type": "execute_result",
     "data": {
      "text/plain": "5"
     },
     "metadata": {},
     "execution_count": 2
    }
   ],
   "source": [
    "listas[0]#hago referencia su índice de la lista y puedo extraer el valor a que corresponde"
   ]
  },
  {
   "cell_type": "code",
   "execution_count": 3,
   "metadata": {},
   "outputs": [
    {
     "output_type": "execute_result",
     "data": {
      "text/plain": "'estudiantes'"
     },
     "metadata": {},
     "execution_count": 3
    }
   ],
   "source": [
    "listas[-1]"
   ]
  },
  {
   "cell_type": "code",
   "execution_count": 4,
   "metadata": {},
   "outputs": [
    {
     "output_type": "execute_result",
     "data": {
      "text/plain": "'Alvaro'"
     },
     "metadata": {},
     "execution_count": 4
    }
   ],
   "source": [
    "listas[2]"
   ]
  },
  {
   "cell_type": "code",
   "execution_count": 5,
   "metadata": {},
   "outputs": [
    {
     "output_type": "execute_result",
     "data": {
      "text/plain": "['Alvaro', -8, 'estudiantes']"
     },
     "metadata": {},
     "execution_count": 5
    }
   ],
   "source": [
    "listas[2:]#si quiero mostrar, valores desde un determinado índice, ejemplo empieza en el índice 3 hasta su fin"
   ]
  },
  {
   "cell_type": "code",
   "execution_count": 6,
   "metadata": {},
   "outputs": [],
   "source": [
    "primer_parte = [1,2,3,4]\n",
    "segunda_parte = [5,6,7]"
   ]
  },
  {
   "cell_type": "code",
   "execution_count": 7,
   "metadata": {},
   "outputs": [
    {
     "output_type": "execute_result",
     "data": {
      "text/plain": "[1, 2, 3, 4, 5, 6, 7]"
     },
     "metadata": {},
     "execution_count": 7
    }
   ],
   "source": [
    "primer_parte + segunda_parte#insertarmos datos en una lista de otra lista"
   ]
  },
  {
   "cell_type": "code",
   "execution_count": 8,
   "metadata": {},
   "outputs": [
    {
     "output_type": "execute_result",
     "data": {
      "text/plain": "[5, 6, 7, 8, 9, 10]"
     },
     "metadata": {},
     "execution_count": 8
    }
   ],
   "source": [
    "segunda_parte + [8,9,10]#insertamos datos en una lista "
   ]
  },
  {
   "cell_type": "code",
   "execution_count": 9,
   "metadata": {},
   "outputs": [],
   "source": [
    "numeros = [1,2,3,4,9,6,7,8,9]"
   ]
  },
  {
   "cell_type": "code",
   "execution_count": 10,
   "metadata": {},
   "outputs": [],
   "source": [
    "numeros[4] = 5#Editamos un dato de la lista, ejem: hemos modificado el dato 9 por 5"
   ]
  },
  {
   "cell_type": "code",
   "execution_count": 11,
   "metadata": {},
   "outputs": [
    {
     "output_type": "execute_result",
     "data": {
      "text/plain": "[1, 2, 3, 4, 5, 6, 7, 8, 9]"
     },
     "metadata": {},
     "execution_count": 11
    }
   ],
   "source": [
    "numeros"
   ]
  },
  {
   "cell_type": "code",
   "execution_count": 12,
   "metadata": {},
   "outputs": [],
   "source": [
    "numeros.append(10)#Aqui agregamos un dato al final de la lista, ejem: se ha agregado el 10"
   ]
  },
  {
   "cell_type": "code",
   "execution_count": 13,
   "metadata": {},
   "outputs": [
    {
     "output_type": "execute_result",
     "data": {
      "text/plain": "[1, 2, 3, 4, 5, 6, 7, 8, 9, 10]"
     },
     "metadata": {},
     "execution_count": 13
    }
   ],
   "source": [
    "numeros"
   ]
  },
  {
   "cell_type": "code",
   "execution_count": 14,
   "metadata": {},
   "outputs": [],
   "source": [
    "numeros.append(10+1)#Aqui agregamos un dato al final de la lista pero le sumamos uno, ejem: se ha agregado el 11"
   ]
  },
  {
   "cell_type": "code",
   "execution_count": 15,
   "metadata": {},
   "outputs": [
    {
     "output_type": "execute_result",
     "data": {
      "text/plain": "[1, 2, 3, 4, 5, 6, 7, 8, 9, 10, 11]"
     },
     "metadata": {},
     "execution_count": 15
    }
   ],
   "source": [
    "numeros"
   ]
  },
  {
   "cell_type": "code",
   "execution_count": 16,
   "metadata": {},
   "outputs": [],
   "source": [
    "abecedario = ['A','B','C','D']"
   ]
  },
  {
   "cell_type": "code",
   "execution_count": 17,
   "metadata": {},
   "outputs": [
    {
     "output_type": "execute_result",
     "data": {
      "text/plain": "['A', 'B', 'C', 'D']"
     },
     "metadata": {},
     "execution_count": 17
    }
   ],
   "source": [
    "abecedario"
   ]
  },
  {
   "cell_type": "code",
   "execution_count": 18,
   "metadata": {},
   "outputs": [
    {
     "output_type": "execute_result",
     "data": {
      "text/plain": "['A', 'B']"
     },
     "metadata": {},
     "execution_count": 18
    }
   ],
   "source": [
    "abecedario[:2]"
   ]
  },
  {
   "cell_type": "code",
   "execution_count": 19,
   "metadata": {},
   "outputs": [],
   "source": [
    "abecedario[:2] = ['a','b']#por ejemplo si quisieramos poner en minúsculas la a y la b pues la sustituimos"
   ]
  },
  {
   "cell_type": "code",
   "execution_count": 20,
   "metadata": {},
   "outputs": [
    {
     "output_type": "execute_result",
     "data": {
      "text/plain": "['a', 'b', 'C', 'D']"
     },
     "metadata": {},
     "execution_count": 20
    }
   ],
   "source": [
    "abecedario"
   ]
  },
  {
   "cell_type": "code",
   "execution_count": 21,
   "metadata": {},
   "outputs": [],
   "source": [
    "primero=[1,2,3]\n",
    "segundo=[4,5,6]\n",
    "tercero=[7,8,9]\n",
    "cuarto=[10,11,12]\n",
    "anidadas=[primero,segundo,tercero,cuarto]#asi se puede anidar listas dentro de otra"
   ]
  },
  {
   "cell_type": "code",
   "execution_count": 22,
   "metadata": {},
   "outputs": [
    {
     "output_type": "execute_result",
     "data": {
      "text/plain": "[[1, 2, 3], [4, 5, 6], [7, 8, 9], [10, 11, 12]]"
     },
     "metadata": {},
     "execution_count": 22
    }
   ],
   "source": [
    "anidadas#vemos el ejemplo de cada lista separada por comas"
   ]
  },
  {
   "cell_type": "code",
   "execution_count": 23,
   "metadata": {},
   "outputs": [
    {
     "output_type": "execute_result",
     "data": {
      "text/plain": "[1, 2, 3]"
     },
     "metadata": {},
     "execution_count": 23
    }
   ],
   "source": [
    "anidadas[0]#sacamos de la lista de lista la primera"
   ]
  },
  {
   "cell_type": "code",
   "execution_count": 24,
   "metadata": {},
   "outputs": [
    {
     "output_type": "execute_result",
     "data": {
      "text/plain": "1"
     },
     "metadata": {},
     "execution_count": 24
    }
   ],
   "source": [
    "anidadas[0][0]#aqui sacamos el valor de la pimera lista de lista y el valor primero de la sublista"
   ]
  },
  {
   "cell_type": "code",
   "execution_count": 25,
   "metadata": {},
   "outputs": [
    {
     "output_type": "execute_result",
     "data": {
      "text/plain": "4"
     },
     "metadata": {},
     "execution_count": 25
    }
   ],
   "source": [
    "anidadas[1][0]#aqui sacamos el valor de la segunda lista de lista y el valor primero de la sublista"
   ]
  }
 ],
 "metadata": {
  "kernelspec": {
   "display_name": "Python 3",
   "language": "python",
   "name": "python3"
  },
  "language_info": {
   "codemirror_mode": {
    "name": "ipython",
    "version": 3
   },
   "file_extension": ".py",
   "mimetype": "text/x-python",
   "name": "python",
   "nbconvert_exporter": "python",
   "pygments_lexer": "ipython3",
   "version": "3.5.2-final"
  }
 },
 "nbformat": 4,
 "nbformat_minor": 2
}