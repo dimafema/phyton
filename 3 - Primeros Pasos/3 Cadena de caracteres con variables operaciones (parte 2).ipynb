{
 "cells": [
  {
   "cell_type": "code",
   "execution_count": 1,
   "metadata": {},
   "outputs": [
    {
     "name": "stdout",
     "output_type": "stream",
     "text": [
      "De esta manera \n",
      "nos ahorramos a nun\n",
      "pero no a \tuna que es para la tabulacio\n"
     ]
    }
   ],
   "source": [
    "print(\"\"\"De esta manera   \n",
    "nos ahorramos a nun\n",
    "pero no a \\tuna que es para la tabulacio\"\"\") #con triple comilla podemos dar salto de linea"
   ]
  },
  {
   "cell_type": "code",
   "execution_count": 16,
   "metadata": {},
   "outputs": [],
   "source": [
    "variable = \"Teoria sobre este tema donde salto de linea es con \\nson dos lineas\""
   ]
  },
  {
   "cell_type": "code",
   "execution_count": 17,
   "metadata": {},
   "outputs": [
    {
     "data": {
      "text/plain": [
       "'Teoria sobre este tema donde salto de linea es con \\nson dos lineas'"
      ]
     },
     "execution_count": 17,
     "metadata": {},
     "output_type": "execute_result"
    }
   ],
   "source": [
    "variable"
   ]
  },
  {
   "cell_type": "code",
   "execution_count": 18,
   "metadata": {},
   "outputs": [
    {
     "name": "stdout",
     "output_type": "stream",
     "text": [
      "Teoria sobre este tema donde salto de linea es con \n",
      "son dos lineas\n"
     ]
    }
   ],
   "source": [
    "print(variable) #al meterlo en print si funciona el salto de linea"
   ]
  },
  {
   "cell_type": "code",
   "execution_count": 19,
   "metadata": {},
   "outputs": [
    {
     "data": {
      "text/plain": [
       "'Teoria sobre este tema donde salto de linea es con \\nson dos lineasTeoria sobre este tema donde salto de linea es con \\nson dos lineas'"
      ]
     },
     "execution_count": 19,
     "metadata": {},
     "output_type": "execute_result"
    }
   ],
   "source": [
    "variable + variable  #podemos concatenar las variables"
   ]
  },
  {
   "cell_type": "code",
   "execution_count": 20,
   "metadata": {},
   "outputs": [
    {
     "data": {
      "text/plain": [
       "'Teoria sobre este tema donde salto de linea es con \\nson dos lineas'"
      ]
     },
     "execution_count": 20,
     "metadata": {},
     "output_type": "execute_result"
    }
   ],
   "source": [
    "variable"
   ]
  },
  {
   "cell_type": "code",
   "execution_count": 21,
   "metadata": {},
   "outputs": [
    {
     "name": "stdout",
     "output_type": "stream",
     "text": [
      "Teoria sobre este tema donde salto de linea es con \n",
      "son dos lineasTeoria sobre este tema donde salto de linea es con \n",
      "son dos lineas\n"
     ]
    }
   ],
   "source": [
    "print(variable + variable)"
   ]
  },
  {
   "cell_type": "code",
   "execution_count": 24,
   "metadata": {},
   "outputs": [],
   "source": [
    "primero = \"primer parte\"\n",
    "segundo = \" segunda parte\""
   ]
  },
  {
   "cell_type": "code",
   "execution_count": 25,
   "metadata": {},
   "outputs": [
    {
     "name": "stdout",
     "output_type": "stream",
     "text": [
      "fusion de primer parte segunda parte\n"
     ]
    }
   ],
   "source": [
    "print(\"fusion de \" + primero + segundo) #aqui dos variables con texto lo fusionamos"
   ]
  },
  {
   "cell_type": "code",
   "execution_count": null,
   "metadata": {},
   "outputs": [],
   "source": []
  }
 ],
 "metadata": {
  "kernelspec": {
   "display_name": "Python 3",
   "language": "python",
   "name": "python3"
  },
  "language_info": {
   "codemirror_mode": {
    "name": "ipython",
    "version": 3
   },
   "file_extension": ".py",
   "mimetype": "text/x-python",
   "name": "python",
   "nbconvert_exporter": "python",
   "pygments_lexer": "ipython3",
   "version": "3.7.6"
  }
 },
 "nbformat": 4,
 "nbformat_minor": 2
}
