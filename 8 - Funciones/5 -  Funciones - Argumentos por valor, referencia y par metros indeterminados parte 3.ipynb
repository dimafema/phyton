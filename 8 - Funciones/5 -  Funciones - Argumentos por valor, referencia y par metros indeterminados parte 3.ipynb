{
 "cells": [
  {
   "cell_type": "code",
   "execution_count": 3,
   "metadata": {},
   "outputs": [],
   "source": [
    "def argu(*tu):\n",
    "    for tus in tu:\n",
    "        print(tus)"
   ]
  },
  {
   "cell_type": "code",
   "execution_count": 4,
   "metadata": {},
   "outputs": [
    {
     "name": "stdout",
     "output_type": "stream",
     "text": [
      "alvaro\n",
      "chirou\n",
      "estudiantes\n",
      "10\n",
      "[1, 2, 3]\n"
     ]
    }
   ],
   "source": [
    "argu('alvaro','chirou','estudiantes', 10,[1,2,3])"
   ]
  },
  {
   "cell_type": "code",
   "execution_count": 16,
   "metadata": {},
   "outputs": [],
   "source": [
    "def nombre_diccionario(*tu,**lo):\n",
    "    b = 0\n",
    "    for tus in tu:\n",
    "        b+=tus\n",
    "    print(b)\n",
    "    for x in lo:\n",
    "        print(x, \" \",lo[x])"
   ]
  },
  {
   "cell_type": "code",
   "execution_count": 17,
   "metadata": {},
   "outputs": [
    {
     "name": "stdout",
     "output_type": "stream",
     "text": [
      "10\n",
      "alvaro   Chirou\n",
      "Estudiantes   Genios\n",
      "calificaciones   [7, 8, 9]\n"
     ]
    }
   ],
   "source": [
    "nombre_diccionario(1,2,3,4,alvaro='Chirou',Estudiantes='Genios',calificaciones=[7,8,9])"
   ]
  },
  {
   "cell_type": "code",
   "execution_count": null,
   "metadata": {},
   "outputs": [],
   "source": []
  }
 ],
 "metadata": {
  "kernelspec": {
   "display_name": "Python 3",
   "language": "python",
   "name": "python3"
  },
  "language_info": {
   "codemirror_mode": {
    "name": "ipython",
    "version": 3
   },
   "file_extension": ".py",
   "mimetype": "text/x-python",
   "name": "python",
   "nbconvert_exporter": "python",
   "pygments_lexer": "ipython3",
   "version": "3.7.3"
  }
 },
 "nbformat": 4,
 "nbformat_minor": 2
}
