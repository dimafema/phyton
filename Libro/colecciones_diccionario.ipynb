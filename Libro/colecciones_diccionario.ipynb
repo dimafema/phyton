{
 "cells": [
  {
   "cell_type": "code",
   "execution_count": 1,
   "metadata": {},
   "outputs": [
    {
     "output_type": "stream",
     "name": "stdout",
     "text": "November\nMay\n"
    }
   ],
   "source": [
    "# Es un elemento compuesto por una clave y un valor asociado, las claves no se pueden repertir\n",
    "mesestraducidos={\"Enero\":\"January\",\n",
    "\"Febrero\":\"February\",\n",
    "\"Marzo\": \"March\",\n",
    "\"Abril\": \"April\",\n",
    "\"Mayo\": \"May\",\n",
    "\"Junio\": \"June\",\n",
    "\"Agosto\":\"August\",\n",
    "\"Septiembre\":\"September\",\n",
    "\"Octubre\":\"October\",\n",
    "\"Noviembre\":\"November\",\n",
    "\"Diciembre\":\"December\"}\n",
    "print(mesestraducidos[\"Noviembre\"])# imprimimos el valor llamando a la clave\n",
    "print(mesestraducidos[\"Mayo\"])"
   ]
  },
  {
   "cell_type": "code",
   "execution_count": null,
   "metadata": {},
   "outputs": [],
   "source": []
  }
 ],
 "metadata": {
  "language_info": {
   "codemirror_mode": {
    "name": "ipython",
    "version": 3
   },
   "file_extension": ".py",
   "mimetype": "text/x-python",
   "name": "python",
   "nbconvert_exporter": "python",
   "pygments_lexer": "ipython3",
   "version": "3.5.2-final"
  },
  "orig_nbformat": 2,
  "kernelspec": {
   "name": "python3",
   "display_name": "Python 3"
  }
 },
 "nbformat": 4,
 "nbformat_minor": 2
}