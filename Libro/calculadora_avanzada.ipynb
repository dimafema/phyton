{
 "cells": [
  {
   "cell_type": "code",
   "execution_count": 4,
   "metadata": {},
   "outputs": [
    {
     "output_type": "stream",
     "name": "stdout",
     "text": "**********************\n    Calculadora\n    *******************\n    Menu\n    1) Suma\n    2) Resta\n    3) Multiplicacion\n    4) Division\n    5) Mostrar menu\n    6) Salir\nError: Tienes que introducir un número.\n"
    }
   ],
   "source": [
    "def LeerNumero(texto):\n",
    "    leido = False\n",
    "    while not leido: # mientras leido no sea falsa\n",
    "        try:\n",
    "            numero = int(input(texto)) # introduce un número\n",
    "        except ValueError: # si no introduce un número evaluamos una excepción\n",
    "            print(\"Error: Tienes que introducir un número.\")# imprimimos texto\n",
    "        else:\n",
    "            leido = True # si no ponemos en vercadera y...\n",
    "    return numero # retornamos\n",
    "\n",
    "def Sumar():\n",
    "    sum1 = LeerNumero(\"Sumando uno: \")\n",
    "    sum2 = LeerNumero(\"Sustraendo dos: \")\n",
    "    print(\"La Suma es: \",sum1+sum2)\n",
    "\n",
    "def Restar():\n",
    "    minuendo = LeerNumero(\"Minuendo: \")\n",
    "    sustraendo = LeerNumero(\"Sustraendo: \")\n",
    "    print(\"La Resta es: \", minuendo-sustraendo)\n",
    "\n",
    "def Multiplicar():\n",
    "    multiplicando = LeerNumero(\"Multiplicando: \")\n",
    "    multiplicador = LeerNumero(\"Multiplicador: \")\n",
    "    print(\"La Multiplicacion es: \", multiplicando*multiplicador)\n",
    "\n",
    "def Dividir():\n",
    "    dividendo = LeerNumero(\"Dividendo: \")\n",
    "    divisor = LeerNumero(\"Divisor: \")\n",
    "    try:\n",
    "        resultado = dividendo/divisor\n",
    "    except ZeroDivisionError:# detectamos una excepción especifica división entre 0\n",
    "        print(\"Error: No puedes dividir por cero.\")\n",
    "    else:\n",
    "        print(\"La Division es: \",resultado) # si no hay exepción mostramos resultado\n",
    "\n",
    "def MostrarMenu():\n",
    "    print(\"\"\"**********************\n",
    "    Calculadora\n",
    "    *******************\n",
    "    Menu\n",
    "    1) Suma\n",
    "    2) Resta\n",
    "    3) Multiplicacion\n",
    "    4) Division\n",
    "    5) Mostrar menu\n",
    "    6) Salir\"\"\")\n",
    "\n",
    "def Calculadora():\n",
    "    fin = False\n",
    "    MostrarMenu()\n",
    "    while not(fin):\n",
    "        opc = LeerNumero(\"Opcion: \")\n",
    "        if(opc==1):\n",
    "            Sumar()\n",
    "        elif(opc==2):\n",
    "            Restar()\n",
    "        elif(opc==3):\n",
    "            Multiplicar()\n",
    "        elif(opc==4):\n",
    "            Dividir()\n",
    "        elif(opc==5):\n",
    "            MostrarMenu()\n",
    "        elif(opc==6):\n",
    "            fin = 1\n",
    "Calculadora()\n",
    "\n",
    "\n",
    "\n",
    "    "
   ]
  },
  {
   "cell_type": "code",
   "execution_count": null,
   "metadata": {},
   "outputs": [],
   "source": []
  }
 ],
 "metadata": {
  "language_info": {
   "codemirror_mode": {
    "name": "ipython",
    "version": 3
   },
   "file_extension": ".py",
   "mimetype": "text/x-python",
   "name": "python",
   "nbconvert_exporter": "python",
   "pygments_lexer": "ipython3",
   "version": "3.5.2-final"
  },
  "orig_nbformat": 2,
  "kernelspec": {
   "name": "python3",
   "display_name": "Python 3"
  }
 },
 "nbformat": 4,
 "nbformat_minor": 2
}