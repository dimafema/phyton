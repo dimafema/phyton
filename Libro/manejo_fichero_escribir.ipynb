{
 "cells": [
  {
   "cell_type": "code",
   "execution_count": 3,
   "metadata": {},
   "outputs": [
    {
     "output_type": "stream",
     "name": "stdout",
     "text": "## Fichero original ##\n{\\rtf1\\ansi\\ansicpg1252\\cocoartf2512\n\\cocoatextscaling0\\cocoaplatform0{\\fonttbl\\f0\\fswiss\\fcharset0 Helvetica;}\n{\\colortbl;\\red255\\green255\\blue255;}\n{\\*\\expandedcolortbl;;}\n\\paperw11900\\paperh16840\\margl1440\\margr1440\\vieww10800\\viewh8400\\viewkind0\n\\pard\\tx566\\tx1133\\tx1700\\tx2267\\tx2834\\tx3401\\tx3968\\tx4535\\tx5102\\tx5669\\tx6236\\tx6803\\pardirnatural\\partightenfactor0\n\n\\f0\\fs24 \\cf0 Esto es una prueba de lectura\\\nsobre programaci\\'f3n en phyton\\\nparece que funciona correctamente\\\npero no se todavia\\\npues si funciona}Esta es una linea agregada\nEsta es una linea agregada\n\n## insertando linea ##\n\n### Fichero modificado ###\n\n{\\rtf1\\ansi\\ansicpg1252\\cocoartf2512\n\\cocoatextscaling0\\cocoaplatform0{\\fonttbl\\f0\\fswiss\\fcharset0 Helvetica;}\n{\\colortbl;\\red255\\green255\\blue255;}\n{\\*\\expandedcolortbl;;}\n\\paperw11900\\paperh16840\\margl1440\\margr1440\\vieww10800\\viewh8400\\viewkind0\n\\pard\\tx566\\tx1133\\tx1700\\tx2267\\tx2834\\tx3401\\tx3968\\tx4535\\tx5102\\tx5669\\tx6236\\tx6803\\pardirnatural\\partightenfactor0\n\n\\f0\\fs24 \\cf0 Esto es una prueba de lectura\\\nsobre programaci\\'f3n en phyton\\\nparece que funciona correctamente\\\npero no se todavia\\\npues si funciona}Esta es una linea agregada\nEsta es una linea agregada\nEsta es una linea agregada\n\n"
    }
   ],
   "source": [
    "# añadir una linea nueva al fichero\n",
    "print(\"## Fichero original ##\")\n",
    "flectura = open(\"../assets/prueba.rtf\",\"r\")\n",
    "texto = flectura.read()\n",
    "flectura.close()\n",
    "print (texto)\n",
    "print(\"## insertando linea ##\\n\")\n",
    "fescritura = open(\"../assets/prueba.rtf\", \"a\")\n",
    "fescritura.write(\"Esta es una linea agregada\\n\")\n",
    "fescritura.close()\n",
    "print(\"### Fichero modificado ###\\n\")\n",
    "flectura = open(\"../assets/prueba.rtf\",\"r\")\n",
    "texto = flectura.read()\n",
    "flectura.close()\n",
    "print (texto)\n",
    "\n",
    "\n"
   ]
  },
  {
   "cell_type": "code",
   "execution_count": 2,
   "metadata": {},
   "outputs": [
    {
     "output_type": "stream",
     "name": "stdout",
     "text": "## Fichero creado ##\nEs un archivo que he creado a través de python\notra linea para ver como funciona\n\n"
    }
   ],
   "source": [
    "# Crear un fichero \n",
    "fcrear = open(\"../assets/ficheronuevo.txt\",\"w\")\n",
    "fcrear.write(\"Es un archivo que he creado a través de python\\n\")\n",
    "fcrear.write(\"otra linea para ver como funciona\\n\")\n",
    "fcrear.close()\n",
    "\n",
    "print(\"## Fichero creado ##\")\n",
    "\n",
    "flectura = open(\"../assets/ficheronuevo.txt\", \"r\")\n",
    "texto = flectura.read()\n",
    "flectura.close()\n",
    "print(texto)"
   ]
  },
  {
   "cell_type": "code",
   "execution_count": null,
   "metadata": {},
   "outputs": [],
   "source": []
  }
 ],
 "metadata": {
  "language_info": {
   "codemirror_mode": {
    "name": "ipython",
    "version": 2
   },
   "file_extension": ".py",
   "mimetype": "text/x-python",
   "name": "python",
   "nbconvert_exporter": "python",
   "pygments_lexer": "ipython2",
   "version": "3.5.2-final"
  },
  "orig_nbformat": 2,
  "kernelspec": {
   "name": "python3",
   "display_name": "Python 3"
  }
 },
 "nbformat": 4,
 "nbformat_minor": 2
}