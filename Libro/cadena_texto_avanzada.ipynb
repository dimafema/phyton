{
 "cells": [
  {
   "cell_type": "code",
   "execution_count": 2,
   "metadata": {},
   "outputs": [
    {
     "output_type": "stream",
     "name": "stdout",
     "text": "En un luga de la mancha...\n"
    }
   ],
   "source": [
    "# Instrucción capitalize, permite poner las primera letra de la cadena de texto en mayúsculas\n",
    "cadenaejemplo = \"en un luga de la mancha...\"\n",
    "print(cadenaejemplo.capitalize())"
   ]
  },
  {
   "cell_type": "code",
   "execution_count": 3,
   "metadata": {},
   "outputs": [
    {
     "output_type": "stream",
     "name": "stdout",
     "text": "EN UN LUGAR DE LA MANCHA...\n"
    }
   ],
   "source": [
    "# Instrucción upper, permite poner las letras de la cadena de texto en mayúsculas\n",
    "cadenaejemplo = \"en un lugar de la mancha...\"\n",
    "print(cadenaejemplo.upper())"
   ]
  },
  {
   "cell_type": "code",
   "execution_count": 4,
   "metadata": {},
   "outputs": [
    {
     "output_type": "stream",
     "name": "stdout",
     "text": "en un lugar de la mancha...\n"
    }
   ],
   "source": [
    "# Instrucción lower, permite poner las letras de la cadena de texto en minúsculas\n",
    "cadenaejemplo = \"EN UN LUGAR DE LA MANCHA...\"\n",
    "print(cadenaejemplo.lower())"
   ]
  },
  {
   "cell_type": "code",
   "execution_count": 6,
   "metadata": {},
   "outputs": [
    {
     "output_type": "stream",
     "name": "stdout",
     "text": "27\n"
    }
   ],
   "source": [
    "# Instrucción len, permite contar el número de caracteres que tiene una cadena de texto\n",
    "cadenaejemplo = \"En un lugar de la mancha...\"\n",
    "print(len(cadenaejemplo))"
   ]
  },
  {
   "cell_type": "code",
   "execution_count": 7,
   "metadata": {},
   "outputs": [
    {
     "output_type": "stream",
     "name": "stdout",
     "text": "False\nTrue\nTrue\nFalse\n"
    }
   ],
   "source": [
    "# Instrucción isalnum, comprueba si todos los caracteres de la cadena son alfanuméricos\n",
    "cadenaejemplo = \"En un lugar de la mancha...\"# al tener los punto no son caracteres alfanuméricos\n",
    "print(cadenaejemplo.isalnum())\n",
    "cadenaejemplo = \"1234567890\"\n",
    "print(cadenaejemplo.isalnum())\n",
    "cadenaejemplo = \"abcdefg1234567890\"\n",
    "print(cadenaejemplo.isalnum())\n",
    "cadenaejemplo = \"abcdefg 1234567890\"# ni los espacios tampoco son alfanuméricos\n",
    "print(cadenaejemplo.isalnum())"
   ]
  },
  {
   "cell_type": "code",
   "execution_count": 8,
   "metadata": {},
   "outputs": [
    {
     "output_type": "stream",
     "name": "stdout",
     "text": "True\nFalse\nFalse\nFalse\n"
    }
   ],
   "source": [
    "# Instrucciones isalpha, comprueba si todos los caracteres de la cadena son alfabéticos\n",
    "cadenaejemplo = \"Enunlugardelamancha\"\n",
    "print(cadenaejemplo.isalpha())\n",
    "cadenaejemplo = \"En un lugar de la mancha\"\n",
    "print(cadenaejemplo.isalpha())\n",
    "cadenaejemplo = \"1234567890\"\n",
    "print(cadenaejemplo.isalpha())\n",
    "cadenaejemplo = \"abcdefg 1234567890\"\n",
    "print(cadenaejemplo.isalpha())\n",
    "# Como se puede comprobar ni los puntos, ni los espacios ni los número son caracteres alfabéticos"
   ]
  },
  {
   "cell_type": "code",
   "execution_count": 10,
   "metadata": {},
   "outputs": [
    {
     "output_type": "stream",
     "name": "stdout",
     "text": "False\nTrue\nFalse\nFalse\n"
    }
   ],
   "source": [
    "# Instrucciones isdigit, comprueba si todos los caracteres de la cadena son numéricos\n",
    "cadenaejemplo = \"En un lugar de la mancha\"\n",
    "print(cadenaejemplo.isdigit())\n",
    "cadenaejemplo = \"1234567890\"\n",
    "print(cadenaejemplo.isdigit())\n",
    "cadenaejemplo = \"1 2 3 4 5 6 7 8 9 0\"\n",
    "print(cadenaejemplo.isdigit())\n",
    "cadenaejemplo = \"abcdefg 1234567890\"\n",
    "print(cadenaejemplo.isdigit())\n",
    "# Como se puede comprobar ni los espacios ni las letras son caracteres alfabéticos"
   ]
  },
  {
   "cell_type": "code",
   "execution_count": 11,
   "metadata": {},
   "outputs": [
    {
     "output_type": "stream",
     "name": "stdout",
     "text": "False\nTrue\n"
    }
   ],
   "source": [
    "# Instrucciones islower, comprueba si todos los caracteres de la cadena estan en minúsculas\n",
    "cadenaejemplo = \"En un lugar de la mancha\"\n",
    "print(cadenaejemplo.islower())\n",
    "cadenaejemplo = \"en un lugar de la mancha\"\n",
    "print(cadenaejemplo.islower())"
   ]
  },
  {
   "cell_type": "code",
   "execution_count": 13,
   "metadata": {},
   "outputs": [
    {
     "output_type": "stream",
     "name": "stdout",
     "text": "False\nTrue\n"
    }
   ],
   "source": [
    "# Instrucciones isupper, comprueba si todos los caracteres de la cadena estan en mayúsculas\n",
    "cadenaejemplo = \"En un lugar de la mancha\"\n",
    "print(cadenaejemplo.isupper())\n",
    "cadenaejemplo = \"EN UN LUGAR DE LA MANCHA\"\n",
    "print(cadenaejemplo.isupper())"
   ]
  },
  {
   "cell_type": "code",
   "execution_count": 17,
   "metadata": {},
   "outputs": [
    {
     "output_type": "stream",
     "name": "stdout",
     "text": "En un lugar de la mancha\nEn un lugar de la mancha\nEn un lugar de la mancha\n"
    }
   ],
   "source": [
    "# Instucciones lstrip, rstrip y strip, permiten eliminar espacios al principio y al final del la cadena de texto\n",
    "cadenaejemplo = \" En un lugar de la mancha\"\n",
    "print(cadenaejemplo.lstrip())\n",
    "cadenaejemplo = \"En un lugar de la mancha \"\n",
    "print(cadenaejemplo.rstrip())\n",
    "cadenaejemplo = \" En un lugar de la mancha \"\n",
    "print(cadenaejemplo.strip())"
   ]
  },
  {
   "cell_type": "code",
   "execution_count": 18,
   "metadata": {},
   "outputs": [
    {
     "output_type": "stream",
     "name": "stdout",
     "text": "z\na\n"
    }
   ],
   "source": [
    "# Instrucción max y min, permite conocer el caracter alfabético mayor y menor de la cadena de texto\n",
    "cadenaejemplo =\"abcdefghijklmnopqrstuvwxyz\"\n",
    "print(max(cadenaejemplo))\n",
    "print(min(cadenaejemplo))"
   ]
  },
  {
   "cell_type": "code",
   "execution_count": 19,
   "metadata": {},
   "outputs": [
    {
     "output_type": "stream",
     "name": "stdout",
     "text": "EEIOU\n"
    }
   ],
   "source": [
    "# Instrucción replace permite reemplazar caracteres de la cadena de texto por otros\n",
    "cadenaejemplo = \"AEIOU\"\n",
    "print(cadenaejemplo.replace('A','E')) # Ojo, en este caso no es comillas dobles es simple\n",
    "# Se a reemplazado la A por la E"
   ]
  },
  {
   "cell_type": "code",
   "execution_count": 21,
   "metadata": {},
   "outputs": [
    {
     "output_type": "stream",
     "name": "stdout",
     "text": "eN UN LUGAR DE LA mANCHA\n"
    }
   ],
   "source": [
    "# Instrucción swapcase, permite invertir las mayúsculas en minúsculas y viceversa de una cadena de texte\n",
    "cadenaejemplo = \" En un lugar de la Mancha\"\n",
    "print(cadenaejemplo.swapcase())"
   ]
  },
  {
   "cell_type": "code",
   "execution_count": 24,
   "metadata": {},
   "outputs": [
    {
     "output_type": "stream",
     "name": "stdout",
     "text": "['En', 'un', 'lugar', 'de', 'la', 'Mancha']\n['02', '05', '1973']\n"
    }
   ],
   "source": [
    "# Instrucción split, convierte una cadena de texto en una lista de elementos\n",
    "cadenaejemplo = \"En un lugar de la Mancha\"\n",
    "print(cadenaejemplo.split())\n",
    "cadenaejemplo = \"02/05/1973\"\n",
    "print(cadenaejemplo.split(\"/\"))# si queremos sacar una lista en referencia a un caracter específico"
   ]
  },
  {
   "cell_type": "code",
   "execution_count": null,
   "metadata": {},
   "outputs": [],
   "source": []
  }
 ],
 "metadata": {
  "language_info": {
   "codemirror_mode": {
    "name": "ipython",
    "version": 3
   },
   "file_extension": ".py",
   "mimetype": "text/x-python",
   "name": "python",
   "nbconvert_exporter": "python",
   "pygments_lexer": "ipython3",
   "version": "3.5.2-final"
  },
  "orig_nbformat": 2,
  "kernelspec": {
   "name": "python3",
   "display_name": "Python 3"
  }
 },
 "nbformat": 4,
 "nbformat_minor": 2
}