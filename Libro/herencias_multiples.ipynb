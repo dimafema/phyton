{
 "cells": [
  {
   "cell_type": "code",
   "execution_count": 1,
   "metadata": {},
   "outputs": [
    {
     "output_type": "stream",
     "name": "stdout",
     "text": "###########\nNegocio\n\tNombre:  El imperio del Sol\n\tDireccion:  Calle de mi pueblo, 34\n\tTelefono:  679878787\n--------------\nHotel\n\tEstrellas:  4\n\tNumero de habitaciones:  255\n--------------\n---------------\nRestaurante\n\tTenedores:  3\n\tHora de Apertura:  8\n---------------\n############\n"
    }
   ],
   "source": [
    "class Hotel: # Clase Hotel\n",
    "    def __init__(self): # Contrucción de atributos\n",
    "        self.__NumeroHabitaciones = 0\n",
    "        self.__Estrellas = 0\n",
    "    def SetNumeroHabitaciones(self,habs): # métodos\n",
    "        self.__NumeroHabitaciones = habs # asignación de parametros al atributo\n",
    "    def SetEstrellas(self,estrellas):\n",
    "        self.__Estrellas = estrellas\n",
    "    def MostrarHotel(self): # método salida\n",
    "        print(\"--------------\")\n",
    "        print(\"Hotel\")\n",
    "        print(\"\\tEstrellas: \",self.__Estrellas)\n",
    "        print(\"\\tNumero de habitaciones: \",self.__NumeroHabitaciones)\n",
    "        print(\"--------------\")\n",
    "\n",
    "class Restaurante(): # clase Restaurante\n",
    "    def __init__(self): # Construcción de atributos\n",
    "        self.__Tenedores = 0\n",
    "        self.__HoraApertura = 0\n",
    "    def SetTenedores(self,tenedores): # métodos\n",
    "        self.__Tenedores = tenedores\n",
    "    def SetHoraApertura(self,hora):\n",
    "        self.__HoraApertura = hora # asignación de parámetro al atributo\n",
    "    def MostrarRestaurante(self):  # método salida\n",
    "        print(\"---------------\")\n",
    "        print(\"Restaurante\")\n",
    "        print(\"\\tTenedores: \",self.__Tenedores)\n",
    "        print(\"\\tHora de Apertura: \",self.__HoraApertura)\n",
    "        print(\"---------------\")\n",
    "\n",
    "class Negocio(Hotel,Restaurante): # clase que recibe herencia de Hotel y Restaurante\n",
    "    def __init__(self): # definición de atributos\n",
    "        self.__Nombre = \"\"\n",
    "        self.__Direccion = \"\"\n",
    "        self.__Telefono = 0\n",
    "    def SetNombre(self,nombre):# métodos\n",
    "        self.__Nombre = nombre\n",
    "    def SetDireccion(self,direccion):\n",
    "        self.__Direccion = direccion\n",
    "    def SetTelefono(self,telefono): \n",
    "        self.__Telefono = telefono # asignación de parámetros a atributo\n",
    "    def MostrarNegocio(self): # Método salida\n",
    "        print(\"###########\")\n",
    "        print(\"Negocio\")\n",
    "        print(\"\\tNombre: \",self.__Nombre)\n",
    "        print(\"\\tDireccion: \",self.__Direccion)\n",
    "        print(\"\\tTelefono: \",self.__Telefono)\n",
    "        self.MostrarHotel()\n",
    "        self.MostrarRestaurante()\n",
    "        print(\"############\")\n",
    "\n",
    "negocio = Negocio() # variable y asignación de clase\n",
    "# llamamiento a los diferntes métodos de entrada\n",
    "negocio.SetEstrellas(4)\n",
    "negocio.SetNumeroHabitaciones(255)\n",
    "negocio.SetTenedores(3)\n",
    "negocio.SetHoraApertura(8)\n",
    "negocio.SetNombre(\"El imperio del Sol\")\n",
    "negocio.SetDireccion(\"Calle de mi pueblo, 34\")\n",
    "negocio.SetTelefono(679878787)\n",
    "# llamamiento método salida\n",
    "negocio.MostrarNegocio()"
   ]
  }
 ],
 "metadata": {
  "language_info": {
   "codemirror_mode": {
    "name": "ipython",
    "version": 3
   },
   "file_extension": ".py",
   "mimetype": "text/x-python",
   "name": "python",
   "nbconvert_exporter": "python",
   "pygments_lexer": "ipython3",
   "version": "2.7.15-final"
  },
  "orig_nbformat": 2,
  "kernelspec": {
   "name": "python3",
   "display_name": "Python 3"
  }
 },
 "nbformat": 4,
 "nbformat_minor": 2
}