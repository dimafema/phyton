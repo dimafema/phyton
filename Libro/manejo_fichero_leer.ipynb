{
 "cells": [
  {
   "cell_type": "code",
   "execution_count": 2,
   "metadata": {},
   "outputs": [
    {
     "output_type": "stream",
     "name": "stdout",
     "text": "{\\rtf1\\ansi\\ansicpg1252\\cocoartf2512\n\\cocoatextscaling0\\cocoaplatform0{\\fonttbl\\f0\\fswiss\\fcharset0 Helvetica;}\n{\\colortbl;\\red255\\green255\\blue255;}\n{\\*\\expandedcolortbl;;}\n\\paperw11900\\paperh16840\\margl1440\\margr1440\\vieww10800\\viewh8400\\viewkind0\n\\pard\\tx566\\tx1133\\tx1700\\tx2267\\tx2834\\tx3401\\tx3968\\tx4535\\tx5102\\tx5669\\tx6236\\tx6803\\pardirnatural\\partightenfactor0\n\n\\f0\\fs24 \\cf0 Esto es una prueba de lectura\\\nsobre programaci\\'f3n en phyton\\\nparece que funciona correctamente\\\npero no se todavia\\\npues si funciona}\n"
    },
    {
     "output_type": "execute_result",
     "data": {
      "text/plain": "<function close>"
     },
     "metadata": {},
     "execution_count": 2
    }
   ],
   "source": [
    "# Lectura de fichero externo, (fichero de texto)\n",
    "f = open(\"../assets/prueba.rtf\",\"r\")\n",
    "texto = f.read()\n",
    "print(texto)\n",
    "f.close"
   ]
  },
  {
   "cell_type": "code",
   "execution_count": 11,
   "metadata": {},
   "outputs": [
    {
     "output_type": "stream",
     "name": "stdout",
     "text": "{\\rtf1\\ansi\\ansicpg1252\\cocoartf2512\n\n\\cocoatextscaling0\\cocoaplatform0{\\fonttbl\\f0\\fswiss\\fcharset0 Helvetica;}\n\n{\\colortbl;\\red255\\green255\\blue255;}\n\n{\\*\\expandedcolortbl;;}\n\n\\paperw11900\\paperh16840\\margl1440\\margr1440\\vieww10800\\viewh8400\\viewkind0\n\n\\pard\\tx566\\tx1133\\tx1700\\tx2267\\tx2834\\tx3401\\tx3968\\tx4535\\tx5102\\tx5669\\tx6236\\tx6803\\pardirnatural\\partightenfactor0\n\n\n\n\\f0\\fs24 \\cf0 Esto es una prueba de lectura\\\n\nsobre programaci\\'f3n en phyton\\\n\nparece que funciona correctamente\\\n\npero no se todavia\\\n\npues si funciona}\n"
    }
   ],
   "source": [
    "# Lectura de fichero con ciclo for\n",
    "for linea in open(\"../assets/prueba.rtf\",\"r\"):\n",
    "    print(linea)"
   ]
  },
  {
   "cell_type": "code",
   "execution_count": 3,
   "metadata": {},
   "outputs": [
    {
     "output_type": "stream",
     "name": "stdout",
     "text": "{\\rtf1\\ansi\\ansicpg1252\\cocoartf2512\n\n\\cocoatextscaling0\\cocoaplatform0{\\fonttbl\\f0\\fswiss\\fcharset0 Helvetica;}\n\n{\\colortbl;\\red255\\green255\\blue255;}\n\n"
    }
   ],
   "source": [
    "# lectura de fichero liena a linea\n",
    "f= open(\"../assets/prueba.rtf\",\"r\")\n",
    "print(f.readline())\n",
    "print(f.readline())\n",
    "print(f.readline())"
   ]
  },
  {
   "cell_type": "code",
   "execution_count": 10,
   "metadata": {},
   "outputs": [
    {
     "output_type": "stream",
     "name": "stdout",
     "text": "{\\rtf1\\ansi\\ansicpg1252\\cocoartf2512\n\n{\\*\\expandedcolortbl;;}\n\n\\pard\\tx566\\tx1133\\tx1700\\tx2267\\tx2834\\tx3401\\tx3968\\tx4535\\tx5102\\tx5669\\tx6236\\tx6803\\pardirnatural\\partightenfactor0\n\nsobre programaci\\'f3n en phyton\\\n\n"
    }
   ],
   "source": [
    "# lectura de todas las lineas con el comando readlines\n",
    "f= open(\"../assets/prueba.rtf\",\"r\")\n",
    "lineas = f.readlines()\n",
    "f.close()\n",
    "print(lineas[0])\n",
    "print(lineas[3])\n",
    "print(lineas[5])\n",
    "print(lineas[8])\n"
   ]
  },
  {
   "cell_type": "code",
   "execution_count": 11,
   "metadata": {},
   "outputs": [
    {
     "output_type": "stream",
     "name": "stdout",
     "text": "{\\rtf1\\ansi\\ansicpg1252\\cocoartf2512\n\n\\cocoatextscaling0\\cocoaplatform0{\\fonttbl\\f0\\fswiss\\fcharset0 Helvetica;}\n\n{\\colortbl;\\red255\\green255\\blue255;}\n\n{\\*\\expandedcolortbl;;}\n\n\\paperw11900\\paperh16840\\margl1440\\margr1440\\vieww10800\\viewh8400\\viewkind0\n\n\\pard\\tx566\\tx1133\\tx1700\\tx2267\\tx2834\\tx3401\\tx3968\\tx4535\\tx5102\\tx5669\\tx6236\\tx6803\\pardirnatural\\partightenfactor0\n\n\n\n\\f0\\fs24 \\cf0 Esto es una prueba de lectura\\\n\nsobre programaci\\'f3n en phyton\\\n\nparece que funciona correctamente\\\n\npero no se todavia\\\n\npues si funciona}\n"
    }
   ],
   "source": [
    "# mediante la instrucción list vas a obtener una lista donde cada elemento es una línea del fichero de texto y posteriormente, utilizando un bucle for se van a mostrar los elementos de la lista.\n",
    "\n",
    "f= open(\"../assets/prueba.rtf\",\"r\")\n",
    "lineas = list(f)\n",
    "f.close()\n",
    "for item in lineas:\n",
    "    print(item)"
   ]
  },
  {
   "cell_type": "code",
   "execution_count": null,
   "metadata": {},
   "outputs": [],
   "source": []
  }
 ],
 "metadata": {
  "language_info": {
   "codemirror_mode": {
    "name": "ipython",
    "version": 2
   },
   "file_extension": ".py",
   "mimetype": "text/x-python",
   "name": "python",
   "nbconvert_exporter": "python",
   "pygments_lexer": "ipython2",
   "version": "2.7.15-final"
  },
  "orig_nbformat": 2,
  "kernelspec": {
   "name": "python271564bit48fcf29e88c54b4a84ab1b835b0e5108",
   "display_name": "Python 2.7.15 64-bit"
  }
 },
 "nbformat": 4,
 "nbformat_minor": 2
}