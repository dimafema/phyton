{
 "cells": [
  {
   "cell_type": "code",
   "execution_count": 1,
   "metadata": {},
   "outputs": [
    {
     "output_type": "stream",
     "name": "stdout",
     "text": "['ordenador', 'teclado', 'raton']\n"
    }
   ],
   "source": [
    "# Listas pagina-46\n",
    "lista= [\"ordenador\", \"teclado\", \"raton\"]\n",
    "print(lista)"
   ]
  },
  {
   "cell_type": "code",
   "execution_count": 2,
   "metadata": {},
   "outputs": [
    {
     "output_type": "stream",
     "name": "stdout",
     "text": "3\nordenador\nteclado\nraton\n"
    }
   ],
   "source": [
    "lista= [\"ordenador\", \"teclado\", \"raton\"]# página- 47\n",
    "print(len(lista))# cuenta los valores que tiene la lista\n",
    "print(lista[0])# imprime el primer valor de la lista\n",
    "print(lista[1])# imprime el primer valor de la lista\n",
    "print(lista[2])# imprime el primer valor de la lista"
   ]
  },
  {
   "cell_type": "code",
   "execution_count": 3,
   "metadata": {},
   "outputs": [
    {
     "output_type": "stream",
     "name": "stdout",
     "text": "['ordenador', 'teclado', 'raton', 'monitor', 'impresora', 'altavoces']\n"
    }
   ],
   "source": [
    "listaoriginal= [\"ordenador\", \"teclado\", \"raton\"]# página- 47\n",
    "listanueva= [\"monitor\", \"impresora\", \"altavoces\"]\n",
    "listafinal= listaoriginal+listanueva# contatenamos las dos listas\n",
    "print(listafinal)"
   ]
  },
  {
   "cell_type": "code",
   "execution_count": 4,
   "metadata": {},
   "outputs": [
    {
     "output_type": "stream",
     "name": "stdout",
     "text": "['ordenador', 'teclado', 'raton']\n['ordenador', 'teclado', 'raton', 'mesa']\n"
    }
   ],
   "source": [
    "lista= [\"ordenador\", \"teclado\", \"raton\"]#pagina 48\n",
    "print(lista)\n",
    "lista= lista+[\"mesa\"]# añadimos un elemento a la lista\n",
    "print(lista)"
   ]
  },
  {
   "cell_type": "code",
   "execution_count": 5,
   "metadata": {},
   "outputs": [
    {
     "output_type": "stream",
     "name": "stdout",
     "text": "['ordenador', 'teclado', 'raton']\n['monitor', 'impresora', 'altavoces']\n"
    }
   ],
   "source": [
    "lista= [\"ordenador\", \"teclado\", \"raton\"]#pagina 48\n",
    "print(lista)\n",
    "lista[0]= \"monitor\"# cambiamos el valor primero de la lista\n",
    "lista[1]= \"impresora\"# cambiamos el valor segundo de la lista\n",
    "lista[2]=\"altavoces\"# cambiamos el valor tercero de la lista\n",
    "print(lista)# impresión de la lista ya modificada"
   ]
  },
  {
   "cell_type": "code",
   "execution_count": 6,
   "metadata": {},
   "outputs": [
    {
     "output_type": "stream",
     "name": "stdout",
     "text": "ordenador\nteclado\nraton\n['tarjeta de sonido', 'micrófono', 'altavoces']\ntarjeta de sonido\nmicrófono\naltavoces\n"
    }
   ],
   "source": [
    "lista= [\"ordenador\", \"teclado\", \"raton\", [\"tarjeta de sonido\", \"micrófono\", \"altavoces\"]]#pagina 49\n",
    "print(lista[0])\n",
    "print(lista[1])\n",
    "print(lista[2])\n",
    "print(lista[3])# impresión de los elemento de los elementos lista\n",
    "print(lista[3][0])# valor primero del elemento que lista \n",
    "print(lista[3][1])\n",
    "print(lista[3][2])"
   ]
  },
  {
   "cell_type": "code",
   "execution_count": null,
   "metadata": {},
   "outputs": [],
   "source": []
  }
 ],
 "metadata": {
  "language_info": {
   "codemirror_mode": {
    "name": "ipython",
    "version": 3
   },
   "file_extension": ".py",
   "mimetype": "text/x-python",
   "name": "python",
   "nbconvert_exporter": "python",
   "pygments_lexer": "ipython3",
   "version": "3.5.2-final"
  },
  "orig_nbformat": 2,
  "kernelspec": {
   "name": "python3",
   "display_name": "Python 3"
  }
 },
 "nbformat": 4,
 "nbformat_minor": 2
}