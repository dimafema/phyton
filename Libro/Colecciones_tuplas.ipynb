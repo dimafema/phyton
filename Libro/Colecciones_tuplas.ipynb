{
 "cells": [
  {
   "cell_type": "code",
   "execution_count": 1,
   "metadata": {},
   "outputs": [
    {
     "output_type": "stream",
     "name": "stdout",
     "text": "('ordenador', 'teclado', 'raton')\n3\nordenador\nteclado\nraton\n"
    }
   ],
   "source": [
    "tupla= (\"ordenador\", \"teclado\", \"raton\")# es igual que las lista pero son inmutables\n",
    "print(tupla)\n",
    "print(len(tupla))\n",
    "print(tupla[0])\n",
    "print(tupla[1])\n",
    "print(tupla[2])"
   ]
  },
  {
   "cell_type": "code",
   "execution_count": null,
   "metadata": {},
   "outputs": [],
   "source": []
  }
 ],
 "metadata": {
  "language_info": {
   "codemirror_mode": {
    "name": "ipython",
    "version": 3
   },
   "file_extension": ".py",
   "mimetype": "text/x-python",
   "name": "python",
   "nbconvert_exporter": "python",
   "pygments_lexer": "ipython3",
   "version": "3.5.2-final"
  },
  "orig_nbformat": 2,
  "kernelspec": {
   "name": "python3",
   "display_name": "Python 3"
  }
 },
 "nbformat": 4,
 "nbformat_minor": 2
}