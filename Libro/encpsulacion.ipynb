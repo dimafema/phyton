{
 "cells": [
  {
   "cell_type": "code",
   "execution_count": 4,
   "metadata": {},
   "outputs": [
    {
     "output_type": "stream",
     "name": "stdout",
     "text": "Valores punto publico:  4 - 6\nValores punto privado:  7 - 3\nValores punto publico cambiado:  2 - 6\nValores punto privado cambiado:  7 - 3\n"
    }
   ],
   "source": [
    "# ENCAPSULACIÓN DE ATRIBUTOS\n",
    "# clase de acceso público, puede acceder todo el mundo\n",
    "class PuntoPublico:\n",
    "    def __init__(self,x,y):\n",
    "        self.X = x\n",
    "        self.Y = y\n",
    "\n",
    "# Clase tipo privada\n",
    "class PuntoPrivado:\n",
    "    def __init__(self,x,y):\n",
    "        self.__X = x # atributo privado, observa que se introduce delante dos barra baja antes del nombre del atributo\n",
    "        self.__Y = y\n",
    "    def GetX(self): # método que lee al atributo X, buenas prácticas es empezar llamando con Get...\n",
    "        return self.__X\n",
    "    def GetY(self):\n",
    "        return self.__Y\n",
    "    def SetX(self,x): # método que escribe en el atributo x, buenas prácticas es empezar con Set...\n",
    "        return self.__X\n",
    "    def SetY(self,y):\n",
    "        return self.__Y\n",
    "publico = PuntoPublico(4,6) # asignamos valor a los atributos de la clase pública\n",
    "privado = PuntoPrivado(7,3) # asignamos valor a los atributos de la clase privada\n",
    "\n",
    "print(\"Valores punto publico: \", publico.X,\"-\",publico.Y)\n",
    "print(\"Valores punto privado: \", privado.GetX(),\"-\",privado.GetY()) # observa que detrás de privado va unos paréntesis, puede cambiar el valor\n",
    "publico.X = 2\n",
    "privado.SetX(9)\n",
    "print(\"Valores punto publico cambiado: \", publico.X,\"-\",publico.Y)\n",
    "print(\"Valores punto privado cambiado: \", privado.GetX(),\"-\",privado.GetY())\n"
   ]
  },
  {
   "cell_type": "code",
   "execution_count": 5,
   "metadata": {},
   "outputs": [
    {
     "output_type": "stream",
     "name": "stdout",
     "text": "El resultado de la suma es:  10\nEl resultado de la resta es:  4\n"
    }
   ],
   "source": [
    "# ENCAPSULACIÓN DE MÉTODOS\n",
    "\n",
    "class OperarValores:\n",
    "    def __init__(self,v1,v2):\n",
    "        self.__V1 = v1\n",
    "        self.__V2 = v2 # atributos privado\n",
    "    def __Sumar(self): # Métodos privados\n",
    "        return self.__V1 + self.__V2 # suma de dos atributo privado\n",
    "    def __Resta(self):\n",
    "        return self.__V1 - self.__V2\n",
    "    def Operar(self):\n",
    "        print(\"El resultado de la suma es: \", self.__Sumar()) # escribimos en el método\n",
    "        print(\"El resultado de la resta es: \", self.__Resta())\n",
    "\n",
    "OperarValores = OperarValores(7,3) # se da valor a los atributos\n",
    "OperarValores.Operar() # ejecutamos método de la clase\n"
   ]
  },
  {
   "cell_type": "code",
   "execution_count": 6,
   "metadata": {},
   "outputs": [
    {
     "output_type": "stream",
     "name": "stdout",
     "text": "El resultado de la suma es:  10\nEl resultado de la resta es:  4\n"
    },
    {
     "output_type": "error",
     "ename": "AttributeError",
     "evalue": "'OperarValores' object has no attribute '__Sumar'",
     "traceback": [
      "\u001b[0;31m---------------------------------------------------------------------------\u001b[0m",
      "\u001b[0;31mAttributeError\u001b[0m                            Traceback (most recent call last)",
      "\u001b[0;32m<ipython-input-6-ae1ab1ceba2b>\u001b[0m in \u001b[0;36m<module>\u001b[0;34m\u001b[0m\n\u001b[1;32m     14\u001b[0m \u001b[0mOperarValores\u001b[0m \u001b[0;34m=\u001b[0m \u001b[0mOperarValores\u001b[0m\u001b[0;34m(\u001b[0m\u001b[0;36m7\u001b[0m\u001b[0;34m,\u001b[0m\u001b[0;36m3\u001b[0m\u001b[0;34m)\u001b[0m \u001b[0;31m# se da valor a los atributos\u001b[0m\u001b[0;34m\u001b[0m\u001b[0;34m\u001b[0m\u001b[0m\n\u001b[1;32m     15\u001b[0m \u001b[0mOperarValores\u001b[0m\u001b[0;34m.\u001b[0m\u001b[0mOperar\u001b[0m\u001b[0;34m(\u001b[0m\u001b[0;34m)\u001b[0m \u001b[0;31m# ejecutamos método de la clase\u001b[0m\u001b[0;34m\u001b[0m\u001b[0;34m\u001b[0m\u001b[0m\n\u001b[0;32m---> 16\u001b[0;31m \u001b[0mprint\u001b[0m\u001b[0;34m(\u001b[0m\u001b[0;34m\"El resultado de la suma es: \"\u001b[0m\u001b[0;34m,\u001b[0m\u001b[0mOperarValores\u001b[0m\u001b[0;34m.\u001b[0m\u001b[0m__Sumar\u001b[0m\u001b[0;34m(\u001b[0m\u001b[0;34m)\u001b[0m\u001b[0;34m)\u001b[0m \u001b[0;31m# esto da un error por intentar acceder al método privado directamente\u001b[0m\u001b[0;34m\u001b[0m\u001b[0;34m\u001b[0m\u001b[0m\n\u001b[0m",
      "\u001b[0;31mAttributeError\u001b[0m: 'OperarValores' object has no attribute '__Sumar'"
     ]
    }
   ],
   "source": [
    "# Genera un error al intentacr acceder a un método privado desde fuera\n",
    "class OperarValores:\n",
    "    def __init__(self,v1,v2):\n",
    "        self.__V1 = v1\n",
    "        self.__V2 = v2 # atributos privado\n",
    "    def __Sumar(self): # Métodos privados\n",
    "        return self.__V1 + self.__V2 # suma de dos atributo privado\n",
    "    def __Resta(self):\n",
    "        return self.__V1 - self.__V2\n",
    "    def Operar(self):\n",
    "        print(\"El resultado de la suma es: \", self.__Sumar()) # escribimos en el método\n",
    "        print(\"El resultado de la resta es: \", self.__Resta())\n",
    "\n",
    "OperarValores = OperarValores(7,3) # se da valor a los atributos\n",
    "OperarValores.Operar() # ejecutamos método de la clase\n",
    "print(\"El resultado de la suma es: \",OperarValores.__Sumar()) # esto da un error por intentar acceder al método privado directamente\n"
   ]
  },
  {
   "cell_type": "code",
   "execution_count": null,
   "metadata": {},
   "outputs": [],
   "source": []
  }
 ],
 "metadata": {
  "language_info": {
   "codemirror_mode": {
    "name": "ipython",
    "version": 2
   },
   "file_extension": ".py",
   "mimetype": "text/x-python",
   "name": "python",
   "nbconvert_exporter": "python",
   "pygments_lexer": "ipython2",
   "version": "3.5.2-final"
  },
  "orig_nbformat": 2,
  "kernelspec": {
   "name": "python3",
   "display_name": "Python 3"
  }
 },
 "nbformat": 4,
 "nbformat_minor": 2
}