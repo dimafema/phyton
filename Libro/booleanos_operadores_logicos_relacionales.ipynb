{
 "cells": [
  {
   "cell_type": "code",
   "execution_count": 1,
   "metadata": {},
   "outputs": [
    {
     "output_type": "stream",
     "name": "stdout",
     "text": "True\nFalse\n"
    }
   ],
   "source": [
    "variablebooleana = True # las variables booleanas solo tienen dos valores True y False\n",
    "print(variablebooleana)\n",
    "variablebooleana = False\n",
    "print(variablebooleana)"
   ]
  },
  {
   "cell_type": "code",
   "execution_count": 2,
   "metadata": {},
   "outputs": [
    {
     "output_type": "stream",
     "name": "stdout",
     "text": "True\n"
    }
   ],
   "source": [
    "# Operador AND, Si la primera variable es True y segunda es True, resultado es True\n",
    "booleano1 = True\n",
    "booleano2 = True\n",
    "print(booleano1 and booleano2)"
   ]
  },
  {
   "cell_type": "code",
   "execution_count": 3,
   "metadata": {},
   "outputs": [
    {
     "output_type": "stream",
     "name": "stdout",
     "text": "False\n"
    }
   ],
   "source": [
    "# Operador AND, Si la primera variable es True y segunda es False, resultado es False\n",
    "booleano1 = True\n",
    "booleano2 = False\n",
    "print(booleano1 and booleano2)"
   ]
  },
  {
   "cell_type": "code",
   "execution_count": 4,
   "metadata": {},
   "outputs": [
    {
     "output_type": "stream",
     "name": "stdout",
     "text": "False\n"
    }
   ],
   "source": [
    "# Operador AND, Si la primera variable es False y segunda es False, resultado es False\n",
    "booleano1 = False\n",
    "booleano2 = False\n",
    "print(booleano1 and booleano2)"
   ]
  },
  {
   "cell_type": "code",
   "execution_count": 5,
   "metadata": {},
   "outputs": [
    {
     "output_type": "stream",
     "name": "stdout",
     "text": "True\n"
    }
   ],
   "source": [
    "# Operador OR, Si la primera variable es True o la segunda es True, resultado es True\n",
    "booleano1 = True\n",
    "booleano2 = True\n",
    "print(booleano1 or booleano2)"
   ]
  },
  {
   "cell_type": "code",
   "execution_count": 6,
   "metadata": {},
   "outputs": [
    {
     "output_type": "stream",
     "name": "stdout",
     "text": "True\n"
    }
   ],
   "source": [
    "# Operador OR, Si la primera variable es True o la segunda es True, resultado es True\n",
    "booleano1 = True\n",
    "booleano2 = False\n",
    "print(booleano1 or booleano2)"
   ]
  },
  {
   "cell_type": "code",
   "execution_count": 7,
   "metadata": {},
   "outputs": [
    {
     "output_type": "stream",
     "name": "stdout",
     "text": "False\n"
    }
   ],
   "source": [
    "# Operador OR, Si la primera variable es False o la segunda es True, resultado es False\n",
    "booleano1 = False\n",
    "booleano2 = False\n",
    "print(booleano1 or booleano2)"
   ]
  },
  {
   "cell_type": "code",
   "execution_count": 8,
   "metadata": {},
   "outputs": [
    {
     "output_type": "stream",
     "name": "stdout",
     "text": "True\n"
    }
   ],
   "source": [
    "booleano = False\n",
    "print(not booleano)# cambiamos el valor de la variable booleano"
   ]
  },
  {
   "cell_type": "code",
   "execution_count": 9,
   "metadata": {},
   "outputs": [
    {
     "output_type": "stream",
     "name": "stdout",
     "text": "False\n"
    }
   ],
   "source": [
    "booleano = True\n",
    "print(not booleano)# cambiamos el valor de la variable booleano"
   ]
  },
  {
   "cell_type": "code",
   "execution_count": 10,
   "metadata": {},
   "outputs": [
    {
     "output_type": "stream",
     "name": "stdout",
     "text": "False\nFalse\nTrue\nTrue\nFalse\nTrue\n"
    }
   ],
   "source": [
    "# Nos permiten relaciona una variable frente a otra y sacar True o False\n",
    "numero1 = 6\n",
    "numero2 = 9\n",
    "print(numero1 > numero2)\n",
    "print(numero1 >= numero2)\n",
    "print(numero1 < numero2)\n",
    "print(numero1 <= numero2)\n",
    "print(numero1 == numero2)\n",
    "print(numero1 != numero2)"
   ]
  }
 ],
 "metadata": {
  "language_info": {
   "codemirror_mode": {
    "name": "ipython",
    "version": 3
   },
   "file_extension": ".py",
   "mimetype": "text/x-python",
   "name": "python",
   "nbconvert_exporter": "python",
   "pygments_lexer": "ipython3",
   "version": "3.5.2-final"
  },
  "orig_nbformat": 2,
  "kernelspec": {
   "name": "python3",
   "display_name": "Python 3"
  }
 },
 "nbformat": 4,
 "nbformat_minor": 2
}