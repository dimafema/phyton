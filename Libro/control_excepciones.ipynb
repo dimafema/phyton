{
 "cells": [
  {
   "cell_type": "code",
   "execution_count": 5,
   "metadata": {},
   "outputs": [
    {
     "output_type": "stream",
     "name": "stdout",
     "text": "Error: Se esta dividiendo por cero y no es posible\n"
    }
   ],
   "source": [
    "# control de excepción \n",
    "try: # inicio para controlar las excepiones dentro del código\n",
    "    print(3/0)\n",
    "except:\n",
    "    print(\"Error: Se esta dividiendo por cero y no es posible\")\n"
   ]
  },
  {
   "cell_type": "code",
   "execution_count": 6,
   "metadata": {},
   "outputs": [
    {
     "output_type": "stream",
     "name": "stdout",
     "text": "¡Iniciando programa\nError: Division erronea\n¡Programa acabado!\n"
    }
   ],
   "source": [
    "# excepción con código final\n",
    "print(\"¡Iniciando programa\")\n",
    "try:\n",
    "    print(3/0)\n",
    "except:\n",
    "    print(\"Error: Division erronea\")\n",
    "finally:\n",
    "    print(\"¡Programa acabado!\")"
   ]
  },
  {
   "cell_type": "code",
   "execution_count": 7,
   "metadata": {},
   "outputs": [
    {
     "output_type": "stream",
     "name": "stdout",
     "text": "¡Iniciando programa\n3.0\n¡Programa acabado\n"
    }
   ],
   "source": [
    "# pero este código siempre da ese error y no es lo que se sigue\n",
    "print(\"¡Iniciando programa\")\n",
    "try:\n",
    "    print(3/1)\n",
    "except:\n",
    "    print(\"Error: Divisiones erroneas\")\n",
    "finally:\n",
    "    print(\"¡Programa acabado!\")"
   ]
  },
  {
   "cell_type": "code",
   "execution_count": 8,
   "metadata": {},
   "outputs": [
    {
     "output_type": "stream",
     "name": "stdout",
     "text": "¡Iniciando programa!\n3.0\n¡No se han producido errores!\n¡Programa acabado!\n"
    }
   ],
   "source": [
    "# distiguimos si ahí errores\n",
    "print(\"¡Iniciando programa!\")\n",
    "try:\n",
    "    print(3/1)\n",
    "except:\n",
    "    print(\"Error: Division erronea\")\n",
    "else:\n",
    "    print(\"¡No se han producido errores!\")\n",
    "finally:\n",
    "    print(\"¡Programa acabado!\")"
   ]
  },
  {
   "cell_type": "code",
   "execution_count": 9,
   "metadata": {},
   "outputs": [
    {
     "output_type": "stream",
     "name": "stdout",
     "text": "¡Inciando programa\nError:Division erronea\n¡Programa acabado\n"
    }
   ],
   "source": [
    "print(\"¡Inciando programa\")\n",
    "try:\n",
    "    print(3/0)\n",
    "except:\n",
    "    print(\"Error:Division erronea\")\n",
    "else:\n",
    "    print(\"¡No se han producido errores!\")\n",
    "finally:\n",
    "    print(\"¡Programa acabado\")\n",
    "    "
   ]
  },
  {
   "cell_type": "code",
   "execution_count": 11,
   "metadata": {},
   "outputs": [
    {
     "output_type": "stream",
     "name": "stdout",
     "text": "¡Iniciando programa\nError: División entre cero\nPrograma acabado\n"
    }
   ],
   "source": [
    "print(\"¡Iniciando programa\")\n",
    "try:\n",
    "    print(3/0)\n",
    "except ZeroDivisionError:\n",
    "    print(\"Error: División entre cero\")\n",
    "else:\n",
    "    print(\"¡No se ha producido ningun error!\")\n",
    "finally:\n",
    "    print(\"Programa acabado\")"
   ]
  },
  {
   "cell_type": "code",
   "execution_count": null,
   "metadata": {},
   "outputs": [],
   "source": []
  }
 ],
 "metadata": {
  "language_info": {
   "codemirror_mode": {
    "name": "ipython",
    "version": 3
   },
   "file_extension": ".py",
   "mimetype": "text/x-python",
   "name": "python",
   "nbconvert_exporter": "python",
   "pygments_lexer": "ipython3",
   "version": "3.5.2-final"
  },
  "orig_nbformat": 2,
  "kernelspec": {
   "name": "python3",
   "display_name": "Python 3"
  }
 },
 "nbformat": 4,
 "nbformat_minor": 2
}