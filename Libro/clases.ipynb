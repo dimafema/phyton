{
 "cells": [
  {
   "cell_type": "code",
   "execution_count": 3,
   "metadata": {},
   "outputs": [
    {
     "output_type": "stream",
     "name": "stdout",
     "text": "('El punto es (', 4, ',', 6, ')')\n"
    }
   ],
   "source": [
    "class Punto:# Creamos el objeto de clase\n",
    "    def __init__(self,x,y):# función que pasamos tres parámetros\n",
    "        self.X = x\n",
    "        self.Y = y\n",
    "    def MostrarPunto(self):\n",
    "        print(\"El punto es (\",self.X,\",\",self.Y,\")\")\n",
    "\n",
    "p1 = Punto(4,6)\n",
    "p1.MostrarPunto()"
   ]
  },
  {
   "cell_type": "code",
   "execution_count": null,
   "metadata": {},
   "outputs": [],
   "source": []
  }
 ],
 "metadata": {
  "language_info": {
   "codemirror_mode": {
    "name": "ipython",
    "version": 2
   },
   "file_extension": ".py",
   "mimetype": "text/x-python",
   "name": "python",
   "nbconvert_exporter": "python",
   "pygments_lexer": "ipython2",
   "version": "2.7.15-final"
  },
  "orig_nbformat": 2,
  "kernelspec": {
   "name": "python271564bit48fcf29e88c54b4a84ab1b835b0e5108",
   "display_name": "Python 2.7.15 64-bit"
  }
 },
 "nbformat": 4,
 "nbformat_minor": 2
}