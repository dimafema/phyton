{
 "cells": [
  {
   "cell_type": "code",
   "execution_count": 4,
   "metadata": {},
   "outputs": [
    {
     "output_type": "stream",
     "name": "stdout",
     "text": "('El punto es (', 4, ',', 6, ')')\n"
    }
   ],
   "source": [
    "class Punto:# Creamos el objeto de clase\n",
    "    def __init__(self,x,y):# función que pasamos dos parámetros, eje x e y\n",
    "        self.X = x # creamos lo atributos\n",
    "        self.Y = y\n",
    "    def MostrarPunto(self): # creamos un método\n",
    "        print(\"El punto es (\",self.X,\",\",self.Y,\")\")  # imprime los atributos \n",
    "\n",
    "p1 = Punto(4,6) # se da valor a los atributos\n",
    "p1.MostrarPunto() # mostramos la función"
   ]
  },
  {
   "cell_type": "code",
   "execution_count": 6,
   "metadata": {},
   "outputs": [
    {
     "output_type": "stream",
     "name": "stdout",
     "text": "('El punto es (', 7, ',', 6, ')')\n"
    }
   ],
   "source": [
    "p1.X = 7 # se puede modificar el valor de atributo que consideremos\n",
    "p1.MostrarPunto()"
   ]
  },
  {
   "cell_type": "code",
   "execution_count": 7,
   "metadata": {},
   "outputs": [
    {
     "output_type": "stream",
     "name": "stdout",
     "text": "('El punto es (', 3, ',', 4, ')')\n('El punto es (', 6, ',', 8, ')')\n('El punto es (', 9, ',', 2, ')')\n"
    }
   ],
   "source": [
    "class Triangulo:# Creamos el objeto de clase\n",
    "    def __init__(self,v1,v2,v3):\n",
    "        self.V1 = v1 # creamos los atributos\n",
    "        self.V2 = v2\n",
    "        self.V3 = v3\n",
    "    def MostrarVertices(self):\n",
    "        self.V1.MostrarPunto() # los valores de los atributos lo cogen de la clase Punto, se ha accedido a la clase\n",
    "        self.V2.MostrarPunto()\n",
    "        self.V3.MostrarPunto()\n",
    "v1 = Punto(3,4) # se da valor a los atributo de la clase Punto\n",
    "v2 = Punto(6,8)\n",
    "v3 = Punto(9,2)\n",
    "triangulo = Triangulo(v1,v2,v3) # asignamos a la variable triangulo los valores de la clase\n",
    "triangulo.MostrarVertices() # imprimimos la variable\n"
   ]
  },
  {
   "cell_type": "code",
   "execution_count": null,
   "metadata": {},
   "outputs": [],
   "source": []
  }
 ],
 "metadata": {
  "language_info": {
   "codemirror_mode": {
    "name": "ipython",
    "version": 2
   },
   "file_extension": ".py",
   "mimetype": "text/x-python",
   "name": "python",
   "nbconvert_exporter": "python",
   "pygments_lexer": "ipython2",
   "version": "2.7.15-final"
  },
  "orig_nbformat": 2,
  "kernelspec": {
   "name": "python271564bit48fcf29e88c54b4a84ab1b835b0e5108",
   "display_name": "Python 2.7.15 64-bit"
  }
 },
 "nbformat": 4,
 "nbformat_minor": 2
}