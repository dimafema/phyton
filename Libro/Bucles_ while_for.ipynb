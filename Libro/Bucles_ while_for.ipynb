{
 "cells": [
  {
   "cell_type": "code",
   "execution_count": 6,
   "metadata": {},
   "outputs": [
    {
     "output_type": "stream",
     "name": "stdout",
     "text": "0 1 2 3 4 5 6 7 8 9"
    }
   ],
   "source": [
    "# El bucle while indicado para contextos en que no se sabe el número de interaciones, mientras la condición sea true se mantenien y cuando sea false se sale del bucle\n",
    "i = 0\n",
    "while i<10:# mientras i sea menor que 10 se sigue ejecutando\n",
    "    print(i,end=\" \")\n",
    "    i= i+1"
   ]
  },
  {
   "cell_type": "code",
   "execution_count": 7,
   "metadata": {},
   "outputs": [
    {
     "output_type": "stream",
     "name": "stdout",
     "text": "Programa acabado\n"
    }
   ],
   "source": [
    "continuar = True\n",
    "while continuar:\n",
    "    valor = int(input(\"Introduce un entero superior a 100: \"))\n",
    "    if valor>100:\n",
    "        continuar = False\n",
    "print(\"Programa acabado\")"
   ]
  },
  {
   "cell_type": "code",
   "execution_count": 8,
   "metadata": {},
   "outputs": [
    {
     "output_type": "stream",
     "name": "stdout",
     "text": "1 2 3 4 5 6 7 8 9"
    }
   ],
   "source": [
    "# El bucle for esta indicado para contextos en que se sabe un número de interaciones exactas que se van a dar\n",
    "lista = [1,2,3,4,5,6,7,8,9]\n",
    "for item in lista:\n",
    "    print(item, end=\" \")# en cada interacción se imprime el elemento de la lista que se esta interactuando"
   ]
  },
  {
   "cell_type": "code",
   "execution_count": 10,
   "metadata": {},
   "outputs": [
    {
     "output_type": "stream",
     "name": "stdout",
     "text": "ordenaor teclado raton"
    }
   ],
   "source": [
    "lista = [\"ordenador\", \"teclado\", \"raton\"]\n",
    "for item in lista:\n",
    "    print(item, end= \" \")# igual que el anterior pero con textos"
   ]
  },
  {
   "cell_type": "code",
   "execution_count": 12,
   "metadata": {},
   "outputs": [
    {
     "output_type": "stream",
     "name": "stdout",
     "text": "0 1 2 3 4 5 6 7 8 9"
    }
   ],
   "source": [
    "for item in range(10):# cantidad rango de 10\n",
    "    print(item, end= \" \")\n"
   ]
  },
  {
   "cell_type": "code",
   "execution_count": 13,
   "metadata": {},
   "outputs": [
    {
     "output_type": "stream",
     "name": "stdout",
     "text": "item1 = 0, item2 = 0\nitem1 = 0, item2 = 1\nitem1 = 0, item2 = 2\nitem1 = 0, item2 = 3\nitem1 = 0, item2 = 4\nitem1 = 1, item2 = 0\nitem1 = 1, item2 = 1\nitem1 = 1, item2 = 2\nitem1 = 1, item2 = 3\nitem1 = 1, item2 = 4\nitem1 = 2, item2 = 0\nitem1 = 2, item2 = 1\nitem1 = 2, item2 = 2\nitem1 = 2, item2 = 3\nitem1 = 2, item2 = 4\n"
    }
   ],
   "source": [
    "for item1 in range(3):# for a trabes de un rango detemitnado\n",
    "    for item2 in range(5):\n",
    "        print(\"item1 = \" + str(item1) +\", item2 = \" + str(item2))"
   ]
  },
  {
   "cell_type": "code",
   "execution_count": 14,
   "metadata": {},
   "outputs": [
    {
     "output_type": "stream",
     "name": "stdout",
     "text": "item1 = 0,item2 = 0\nitem1 = 0,item2 = 1\nitem1 = 0,item2 = 2\nitem1 = 0,item2 = 3\nitem1 = 0,item2 = 4\nitem1 = 1,item2 = 0\nitem1 = 1,item2 = 1\nitem1 = 1,item2 = 2\nitem1 = 1,item2 = 3\nitem1 = 1,item2 = 4\nitem1 = 2,item2 = 0\nitem1 = 2,item2 = 1\nitem1 = 2,item2 = 2\nitem1 = 2,item2 = 3\nitem1 = 2,item2 = 4\n"
    }
   ],
   "source": [
    "item1 = 0\n",
    "while item1<3:# while mientras item1 es inferior a 3\n",
    "    for item2 in range(5):\n",
    "        print(\"item1 = \" + str(item1) + \",item2 = \" + str(item2))\n",
    "    item1 = item1 + 1"
   ]
  },
  {
   "cell_type": "code",
   "execution_count": 4,
   "metadata": {},
   "outputs": [
    {
     "output_type": "stream",
     "name": "stdout",
     "text": "item1 = 0, item2 = 0\nitem1 = 0, item2 = 1\nitem1 = 0, item2 = 2\nitem1 = 0, item2 = 3\nitem1 = 0, item2 = 4\nitem1 = 1, item2 = 0\nitem1 = 1, item2 = 1\nitem1 = 1, item2 = 2\nitem1 = 1, item2 = 3\nitem1 = 1, item2 = 4\nitem1 = 2, item2 = 0\nitem1 = 2, item2 = 1\nitem1 = 2, item2 = 2\nitem1 = 2, item2 = 3\nitem1 = 2, item2 = 4\n"
    }
   ],
   "source": [
    "item1 = 0\n",
    "while item1<3:\n",
    "    item2 = 0\n",
    "    while item2<5:\n",
    "        print(\"item1 = \" + str(item1) + \", item2 = \" + str(item2))\n",
    "        item2 = item2 + 1\n",
    "    item1 = item1 + 1"
   ]
  },
  {
   "cell_type": "code",
   "execution_count": null,
   "metadata": {},
   "outputs": [],
   "source": []
  }
 ],
 "metadata": {
  "language_info": {
   "codemirror_mode": {
    "name": "ipython",
    "version": 3
   },
   "file_extension": ".py",
   "mimetype": "text/x-python",
   "name": "python",
   "nbconvert_exporter": "python",
   "pygments_lexer": "ipython3",
   "version": "3.5.2-final"
  },
  "orig_nbformat": 2,
  "kernelspec": {
   "name": "python3",
   "display_name": "Python 3"
  }
 },
 "nbformat": 4,
 "nbformat_minor": 2
}