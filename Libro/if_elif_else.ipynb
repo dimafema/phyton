{
 "cells": [
  {
   "cell_type": "code",
   "execution_count": 19,
   "metadata": {},
   "outputs": [
    {
     "output_type": "stream",
     "name": "stdout",
     "text": "has escrito el numero: 5\n"
    }
   ],
   "source": [
    "# Sentencia if, podemos decir es como si se da la condición.... entonces ejecuto .... si sigo el código\n",
    "\n",
    "numero = int(input(\"Escriba un número del 1 al 10: \"))\n",
    "\n",
    "if numero>10:# Si el número es mayor a 10 entonces se ejecuta la sentencia 1, sino pasará a la sentencia 2\n",
    "    print(\"¡El número que has escrito es mayor que 10!\")# Sentencia 1, si el número es mayor a 10\n",
    "print(\"has escrito el numero: \" + str(numero))# Sentencia 2, esta siempre se ejecuta mostrando el número que ha ingresado"
   ]
  },
  {
   "cell_type": "code",
   "execution_count": 20,
   "metadata": {},
   "outputs": [
    {
     "output_type": "stream",
     "name": "stdout",
     "text": "¡Encontrado!\n"
    }
   ],
   "source": [
    "# Sentencia if..else.., podemos decir si se cumple la condición... entonce ejecuto... si ejecuto lo siguiente\n",
    "cadenaejemplo = \"En un lugar de la mancha...\"\n",
    "if \"lugar\" in cadenaejemplo:\n",
    "    print(\"¡Encontrado!\")\n",
    "else:\n",
    "    print(\"¡No encontrado!\")"
   ]
  },
  {
   "cell_type": "code",
   "execution_count": 21,
   "metadata": {},
   "outputs": [
    {
     "output_type": "stream",
     "name": "stdout",
     "text": "¡Empieza por E!\n¡No termina por p!\n"
    }
   ],
   "source": [
    "cadenaejemplo = \"En un lugar de la mancha\"\n",
    "if cadenaejemplo.startswith('E'):#  Instrucción que sirve para comprobar el primer caracter de una cadena\n",
    "    print(\"¡Empieza por E!\")\n",
    "else:\n",
    "    print(\"¡No empieza por E!\")\n",
    "if cadenaejemplo.endswith('p'):#  Instrucción que sirve para comprobar el último caracter de una cadena\n",
    "    print(\"¡Termina por p!\")\n",
    "else:\n",
    "    print(\"¡No termina por p!\")\n"
   ]
  },
  {
   "cell_type": "code",
   "execution_count": 22,
   "metadata": {},
   "outputs": [
    {
     "output_type": "stream",
     "name": "stdout",
     "text": "¡Ambos número son iguales!\n"
    }
   ],
   "source": [
    "# if ... elif.... else... Si la condición se cumple se ejcuta el código sino, se ejecuta la de elfi y si no la de else\n",
    "numero1 = int(input(\"Escriba el primer número: \"))\n",
    "numero2 = int(input(\"Escriba el segundo número: \"))\n",
    "if numero1>numero2:\n",
    "    print(\"¡El primer número es mayor que el segundo!\")\n",
    "elif numero1==numero2:\n",
    "    print(\"¡Ambos número son iguales!\")\n",
    "else:\n",
    "    print(\"¡El primer número es menor que el segundo!\") "
   ]
  }
 ],
 "metadata": {
  "language_info": {
   "codemirror_mode": {
    "name": "ipython",
    "version": 3
   },
   "file_extension": ".py",
   "mimetype": "text/x-python",
   "name": "python",
   "nbconvert_exporter": "python",
   "pygments_lexer": "ipython3",
   "version": "3.5.2-final"
  },
  "orig_nbformat": 2,
  "kernelspec": {
   "name": "python3",
   "display_name": "Python 3"
  }
 },
 "nbformat": 4,
 "nbformat_minor": 2
}