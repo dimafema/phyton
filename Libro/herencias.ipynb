{
 "cells": [
  {
   "cell_type": "code",
   "execution_count": 8,
   "metadata": {},
   "outputs": [
    {
     "output_type": "stream",
     "name": "stdout",
     "text": "############\nLavadora:\n\tRPM: 1200\n\tKilos: 7\n\tTension: 220\n\t¡Lavadora encendida!\n##############\n##########\nMicroondas: \n\tPotencia maxima:  800\n\tGrill: Si\n\tMicroondas no encendido\n###########\n"
    }
   ],
   "source": [
    "# HERENCIAS DE CLASE\n",
    "\n",
    "class Electrodomesticos: # creamos la clase\n",
    "    def __init__(self): # definios los atributos\n",
    "        self.__Encendido = False\n",
    "        self.__Tension = 0\n",
    "    def Encender(self): # y los métodos correspondientes\n",
    "        self.__Encendido = True\n",
    "    def Apagar(self):\n",
    "        self.__Encendido = False\n",
    "    def Encendido(self):\n",
    "        return self.__Encendido\n",
    "    def SetTension(self,tension):\n",
    "        self.__Tension = tension\n",
    "    def GetTension(self):\n",
    "        return self.__Tension\n",
    "class Lavadora(Electrodomesticos): # hemos tomado heredada la clase Electrodomestico\n",
    "    def __init__(self):\n",
    "        self.__RPM = 0\n",
    "        self.__Kilos = 0\n",
    "    def SetRPM(self,rpm):\n",
    "        self.__RPM = rpm\n",
    "    def SetKilos(self,Kilos):\n",
    "        self.__Kilos = Kilos\n",
    "    def MostraLavadora(self):\n",
    "        print(\"############\")\n",
    "        print(\"Lavadora:\")\n",
    "        print(\"\\tRPM:\",self.__RPM) # observación la \\t sirve para hacer tabulación\n",
    "        print(\"\\tKilos:\",self.__Kilos)\n",
    "        print(\"\\tTension:\",self.GetTension()) # esto es heredado\n",
    "        if self.Encendido(): # esto es heredado\n",
    "            print(\"\\t¡Lavadora encendida!\")\n",
    "        else:\n",
    "            print(\"\\tLavadora no encendida\")\n",
    "        print(\"##############\")\n",
    "\n",
    "class Microondas(Electrodomesticos):\n",
    "    def __init__ (self):\n",
    "        self.__PotenciaMaxima = 0\n",
    "        self.__Grill = False\n",
    "    def SetPotenciaMaxima(self,potencia):\n",
    "        self.__PotenciaMaxima = potencia\n",
    "    def SetGrill(self,grill):\n",
    "        self.__Grill = grill\n",
    "    def MostrarMicroondas(self):\n",
    "        print(\"##########\")\n",
    "        print(\"Microondas: \")\n",
    "        print(\"\\tPotencia maxima: \",self.__PotenciaMaxima)\n",
    "        if self.__Grill == True:\n",
    "            print(\"\\tGrill: Si\")\n",
    "        else:\n",
    "            print(\"\\rGrill: NO\")\n",
    "            print(\"\\tTension: \",self.GetTension())\n",
    "        if self.Encendido():\n",
    "            print(\"\\t¡Microondas encendido!\")\n",
    "        else:\n",
    "            print(\"\\tMicroondas no encendido\")\n",
    "        print(\"###########\")\n",
    "\n",
    "\n",
    "\n",
    "lavadora = Lavadora()\n",
    "lavadora.SetRPM(1200) # llamamos a los atributos\n",
    "lavadora.SetKilos(7)\n",
    "lavadora.SetTension(220)\n",
    "lavadora.Encender() # llamamos a metodos\n",
    "lavadora.MostraLavadora()\n",
    "microondas = Microondas()\n",
    "microondas.SetPotenciaMaxima(800)\n",
    "microondas.SetGrill(True)\n",
    "microondas.SetTension(220)\n",
    "microondas.Apagar()\n",
    "microondas.MostrarMicroondas()"
   ]
  },
  {
   "cell_type": "code",
   "execution_count": null,
   "metadata": {},
   "outputs": [],
   "source": []
  }
 ],
 "metadata": {
  "language_info": {
   "codemirror_mode": {
    "name": "ipython",
    "version": 2
   },
   "file_extension": ".py",
   "mimetype": "text/x-python",
   "name": "python",
   "nbconvert_exporter": "python",
   "pygments_lexer": "ipython2",
   "version": "3.5.2-final"
  },
  "orig_nbformat": 2,
  "kernelspec": {
   "name": "python3",
   "display_name": "Python 3"
  }
 },
 "nbformat": 4,
 "nbformat_minor": 2
}