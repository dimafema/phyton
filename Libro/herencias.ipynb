{
 "cells": [
  {
   "cell_type": "code",
   "execution_count": 10,
   "metadata": {},
   "outputs": [
    {
     "output_type": "stream",
     "name": "stdout",
     "text": "############\nLavadora:\n('\\tRPM:', 1200)\n('\\tKilos:', 7)\n('\\tTension:', 220)\n\t¡Lavadora encendida!\n##############\n"
    }
   ],
   "source": [
    "# HERENCIAS DE CLASE\n",
    "\n",
    "class Electrodomesticos:\n",
    "    def __init__(self):\n",
    "        self.__Encendido = False\n",
    "        self.__Tension = 0\n",
    "    def Encender(self):\n",
    "        self.__Encendido = True\n",
    "    def Apagar(self):\n",
    "        self.__Encendido = False\n",
    "    def Encendido(self):\n",
    "        return self.__Encendido\n",
    "    def SetTension(self,tension):\n",
    "        self.__Tension = tension\n",
    "    def GetTension(self):\n",
    "        return self.__Tension\n",
    "class Lavadora(Electrodomesticos):\n",
    "    def __init__(self):\n",
    "        self.__RPM = 0\n",
    "        self.__Kilos = 0\n",
    "    def SetRPM(self,rpm):\n",
    "        self.__RPM = rpm\n",
    "    def SetKilos(self,Kilos):\n",
    "        self.__Kilos = Kilos\n",
    "    def MostraLavadora(self):\n",
    "        print(\"############\")\n",
    "        print(\"Lavadora:\")\n",
    "        print(\"\\tRPM:\",self.__RPM)\n",
    "        print(\"\\tKilos:\",self.__Kilos)\n",
    "        print(\"\\tTension:\",self.GetTension())\n",
    "        if self.Encendido():\n",
    "            print(\"\\t¡Lavadora encendida!\")\n",
    "        else:\n",
    "            print(\"\\tLavadora no encendida\")\n",
    "        print(\"##############\")\n",
    "\n",
    "\n",
    "lavadora = Lavadora()\n",
    "lavadora.SetRPM(1200)\n",
    "lavadora.SetKilos(7)\n",
    "lavadora.SetTension(220)\n",
    "lavadora.Encender()\n",
    "lavadora.MostraLavadora()"
   ]
  },
  {
   "cell_type": "code",
   "execution_count": null,
   "metadata": {},
   "outputs": [],
   "source": []
  }
 ],
 "metadata": {
  "language_info": {
   "codemirror_mode": {
    "name": "ipython",
    "version": 2
   },
   "file_extension": ".py",
   "mimetype": "text/x-python",
   "name": "python",
   "nbconvert_exporter": "python",
   "pygments_lexer": "ipython2",
   "version": "2.7.15-final"
  },
  "orig_nbformat": 2,
  "kernelspec": {
   "name": "python271564bit48fcf29e88c54b4a84ab1b835b0e5108",
   "display_name": "Python 2.7.15 64-bit"
  }
 },
 "nbformat": 4,
 "nbformat_minor": 2
}