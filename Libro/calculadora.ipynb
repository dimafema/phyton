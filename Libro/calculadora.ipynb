{
 "cells": [
  {
   "cell_type": "code",
   "execution_count": 1,
   "metadata": {},
   "outputs": [
    {
     "output_type": "stream",
     "name": "stdout",
     "text": "***********\nCalculadora\n********\nMenú:\n01) Suma\n02) Resta\n03) Multiplicación\n04) División\n05) Salir\nla División es:  7.5\n"
    }
   ],
   "source": [
    "fin = False\n",
    "print(\"\"\"***********\n",
    "Calculadora\n",
    "********\n",
    "Menú:\n",
    "01) Suma\n",
    "02) Resta\n",
    "03) Multiplicación\n",
    "04) División\n",
    "05) Salir\"\"\")# para introducir caracteres con salto de linea se empieza con tres comillas\n",
    "while not(fin):\n",
    "    opc = int(input(\"Opción: \"))\n",
    "    if(opc == 1):\n",
    "        sum1 = int(input(\"Sumando uno: \"))\n",
    "        sum2 = int(input(\"Sumando dos: \"))\n",
    "        print(\"La Suma es: \", sum1+sum2)\n",
    "    elif(opc == 2):\n",
    "        minuendo = int(input(\"Minuendo: \"))\n",
    "        sustraendo = int(input(\"Sustraendo: \"))\n",
    "        print(\"La Resta es: \", minuendo-sustraendo)\n",
    "    elif(opc == 3):\n",
    "        multiplicando = int(input(\"Multiplicando: \"))\n",
    "        multiplicador = int(input(\"Multiplicador: \"))\n",
    "        print(\"La Multiplicación es: \", multiplicador*multiplicando)\n",
    "    elif(opc == 4):\n",
    "        dividendo = int(input(\"Dividendo: \"))\n",
    "        divisor = int(input(\"Divisor: \"))\n",
    "        print(\"la División es: \", dividendo/divisor)\n",
    "    elif(opc == 5):\n",
    "        fin = True\n",
    "\n"
   ]
  },
  {
   "cell_type": "code",
   "execution_count": null,
   "metadata": {},
   "outputs": [],
   "source": []
  }
 ],
 "metadata": {
  "language_info": {
   "codemirror_mode": {
    "name": "ipython",
    "version": 3
   },
   "file_extension": ".py",
   "mimetype": "text/x-python",
   "name": "python",
   "nbconvert_exporter": "python",
   "pygments_lexer": "ipython3",
   "version": "3.5.2-final"
  },
  "orig_nbformat": 2,
  "kernelspec": {
   "name": "python3",
   "display_name": "Python 3"
  }
 },
 "nbformat": 4,
 "nbformat_minor": 2
}