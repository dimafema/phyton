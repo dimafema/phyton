{
 "cells": [
  {
   "cell_type": "code",
   "execution_count": 1,
   "metadata": {},
   "outputs": [
    {
     "output_type": "stream",
     "name": "stdout",
     "text": "***********\nCalculadora\n********\nMenú:\n01) Suma\n02) Resta\n03) Multiplicación\n04) División\n05) Salir\nLa Suma es:  27\nLa Resta es:  1473\nLa Multiplicación es:  131936\nla División es:  0.3333333333333333\n"
    }
   ],
   "source": [
    "\n",
    "\n",
    "\n",
    "def Sumar():# Cramos las funciones para cada tipo de operación\n",
    "     sum1 = int(input(\"Sumando uno: \"))\n",
    "     sum2 = int(input(\"Sumando dos: \"))\n",
    "     print(\"La Suma es: \", sum1+sum2)\n",
    "def Restar():\n",
    "     minuendo = int(input(\"Minuendo: \"))\n",
    "     sustraendo = int(input(\"Sustraendo: \"))\n",
    "     print(\"La Resta es: \", minuendo-sustraendo)\n",
    "def Multiplicar():\n",
    "     multiplicando = int(input(\"Multiplicando: \"))\n",
    "     multiplicador = int(input(\"Multiplicador: \"))\n",
    "     print(\"La Multiplicación es: \", multiplicador*multiplicando)\n",
    "def Dividir():\n",
    "     dividendo = int(input(\"Dividendo: \"))\n",
    "     divisor = int(input(\"Divisor: \"))\n",
    "     print(\"la División es: \", dividendo/divisor)\n",
    "def Calculadora():# al final creamos una función que llama a las anteriores\n",
    "     fin = False # creamos una variable booleana\n",
    "     while not(fin):# minetras la viriable fin sea false seguimos realizando el procedimiento\n",
    "         opc = int(input(\"Opción: \"))# una variables con entrada de teclado\n",
    "         if(opc==1): # si la opción es uno llamo a la función Sumar\n",
    "             Sumar()\n",
    "         elif(opc==2):# si no seguimos a la opción 2 y así sucesivamente\n",
    "             Restar()\n",
    "         elif(opc==3):\n",
    "             Multiplicar()\n",
    "         elif(opc==4):\n",
    "             Dividir()\n",
    "         elif(opc==5):# en cambio si la opción es 5 cambiamos la variables a true.\n",
    "             fin = 1# si observas en el while decimos lo diferente false salimos del ciclo\n",
    "\n",
    "\n",
    "print(\"\"\"***********\n",
    "Calculadora\n",
    "********\n",
    "Menú:\n",
    "01) Suma\n",
    "02) Resta\n",
    "03) Multiplicación\n",
    "04) División\n",
    "05) Salir\"\"\")# para introducir caracteres con salto de linea se empieza con tres comillas\n",
    "Calculadora()# Llamammos a la función calduladora\n",
    "\n",
    "   \n"
   ]
  },
  {
   "cell_type": "code",
   "execution_count": null,
   "metadata": {},
   "outputs": [],
   "source": []
  }
 ],
 "metadata": {
  "language_info": {
   "codemirror_mode": {
    "name": "ipython",
    "version": 3
   },
   "file_extension": ".py",
   "mimetype": "text/x-python",
   "name": "python",
   "nbconvert_exporter": "python",
   "pygments_lexer": "ipython3",
   "version": "2.7.15-final"
  },
  "orig_nbformat": 2,
  "kernelspec": {
   "name": "python3",
   "display_name": "Python 3"
  }
 },
 "nbformat": 4,
 "nbformat_minor": 2
}