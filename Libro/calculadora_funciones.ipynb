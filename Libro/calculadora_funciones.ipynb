{
 "cells": [
  {
   "cell_type": "code",
   "execution_count": 7,
   "metadata": {},
   "outputs": [
    {
     "output_type": "stream",
     "name": "stdout",
     "text": "***********\nCalculadora\n********\nMenú:\n01) Suma\n02) Resta\n03) Multiplicación\n04) División\n05) Salir\nLa Suma es:  41\nLa Resta es:  -11\nLa Multiplicación es:  1170\n"
    },
    {
     "output_type": "error",
     "ename": "ValueError",
     "evalue": "invalid literal for int() with base 10: ''",
     "traceback": [
      "\u001b[0;31m---------------------------------------------------------------------------\u001b[0m",
      "\u001b[0;31mValueError\u001b[0m                                Traceback (most recent call last)",
      "\u001b[0;32m<ipython-input-7-6f3af3966b61>\u001b[0m in \u001b[0;36m<module>\u001b[0;34m\u001b[0m\n\u001b[1;32m     40\u001b[0m 04) División\n\u001b[1;32m     41\u001b[0m 05) Salir\"\"\")# para introducir caracteres con salto de linea se empieza con tres comillas\n\u001b[0;32m---> 42\u001b[0;31m \u001b[0mCalculadora\u001b[0m\u001b[0;34m(\u001b[0m\u001b[0;34m)\u001b[0m\u001b[0;31m# Llamammos a la función calduladora\u001b[0m\u001b[0;34m\u001b[0m\u001b[0;34m\u001b[0m\u001b[0m\n\u001b[0m\u001b[1;32m     43\u001b[0m \u001b[0;34m\u001b[0m\u001b[0m\n\u001b[1;32m     44\u001b[0m \u001b[0;34m\u001b[0m\u001b[0m\n",
      "\u001b[0;32m<ipython-input-7-6f3af3966b61>\u001b[0m in \u001b[0;36mCalculadora\u001b[0;34m()\u001b[0m\n\u001b[1;32m     18\u001b[0m      \u001b[0mfin\u001b[0m \u001b[0;34m=\u001b[0m \u001b[0;32mFalse\u001b[0m\u001b[0;34m\u001b[0m\u001b[0;34m\u001b[0m\u001b[0m\n\u001b[1;32m     19\u001b[0m      \u001b[0;32mwhile\u001b[0m \u001b[0;32mnot\u001b[0m\u001b[0;34m(\u001b[0m\u001b[0mfin\u001b[0m\u001b[0;34m)\u001b[0m\u001b[0;34m:\u001b[0m\u001b[0;34m\u001b[0m\u001b[0;34m\u001b[0m\u001b[0m\n\u001b[0;32m---> 20\u001b[0;31m          \u001b[0mopc\u001b[0m \u001b[0;34m=\u001b[0m \u001b[0mint\u001b[0m\u001b[0;34m(\u001b[0m\u001b[0minput\u001b[0m\u001b[0;34m(\u001b[0m\u001b[0;34m\"Opción: \"\u001b[0m\u001b[0;34m)\u001b[0m\u001b[0;34m)\u001b[0m\u001b[0;34m\u001b[0m\u001b[0;34m\u001b[0m\u001b[0m\n\u001b[0m\u001b[1;32m     21\u001b[0m          \u001b[0;32mif\u001b[0m\u001b[0;34m(\u001b[0m\u001b[0mopc\u001b[0m\u001b[0;34m==\u001b[0m\u001b[0;36m1\u001b[0m\u001b[0;34m)\u001b[0m\u001b[0;34m:\u001b[0m\u001b[0;34m\u001b[0m\u001b[0;34m\u001b[0m\u001b[0m\n\u001b[1;32m     22\u001b[0m              \u001b[0mSumar\u001b[0m\u001b[0;34m(\u001b[0m\u001b[0;34m)\u001b[0m\u001b[0;34m\u001b[0m\u001b[0;34m\u001b[0m\u001b[0m\n",
      "\u001b[0;31mValueError\u001b[0m: invalid literal for int() with base 10: ''"
     ]
    }
   ],
   "source": [
    "def Sumar():\n",
    "     sum1 = int(input(\"Sumando uno: \"))\n",
    "     sum2 = int(input(\"Sumando dos: \"))\n",
    "     print(\"La Suma es: \", sum1+sum2)\n",
    "def Restar():\n",
    "     minuendo = int(input(\"Minuendo: \"))\n",
    "     sustraendo = int(input(\"Sustraendo: \"))\n",
    "     print(\"La Resta es: \", minuendo-sustraendo)\n",
    "def Multiplicar():\n",
    "     multiplicando = int(input(\"Multiplicando: \"))\n",
    "     multiplicador = int(input(\"Multiplicador: \"))\n",
    "     print(\"La Multiplicación es: \", multiplicador*multiplicando)\n",
    "def Dividir():\n",
    "     dividendo = int(input(\"Dividendo: \"))\n",
    "     divisor = int(input(\"Divisor: \"))\n",
    "     print(\"la División es: \", dividendo/divisor)\n",
    "def Calculadora():\n",
    "     fin = False\n",
    "     while not(fin):\n",
    "         opc = int(input(\"Opción: \"))\n",
    "         if(opc==1):\n",
    "             Sumar()\n",
    "         elif(opc==2):\n",
    "             Restar()\n",
    "         elif(opc==3):\n",
    "             Multiplicar()\n",
    "         elif(opc==4):\n",
    "             Dividir()\n",
    "         elif(opc==5):\n",
    "             fin = 1\n",
    "\n",
    "\n",
    "print(\"\"\"***********\n",
    "Calculadora\n",
    "********\n",
    "Menú:\n",
    "01) Suma\n",
    "02) Resta\n",
    "03) Multiplicación\n",
    "04) División\n",
    "05) Salir\"\"\")# para introducir caracteres con salto de linea se empieza con tres comillas\n",
    "Calculadora()# Llamammos a la función calduladora\n",
    "\n",
    "   \n"
   ]
  },
  {
   "cell_type": "code",
   "execution_count": null,
   "metadata": {},
   "outputs": [],
   "source": []
  }
 ],
 "metadata": {
  "language_info": {
   "codemirror_mode": {
    "name": "ipython",
    "version": 3
   },
   "file_extension": ".py",
   "mimetype": "text/x-python",
   "name": "python",
   "nbconvert_exporter": "python",
   "pygments_lexer": "ipython3",
   "version": "3.5.2-final"
  },
  "orig_nbformat": 2,
  "kernelspec": {
   "name": "python3",
   "display_name": "Python 3"
  }
 },
 "nbformat": 4,
 "nbformat_minor": 2
}