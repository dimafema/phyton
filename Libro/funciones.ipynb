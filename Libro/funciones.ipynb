{
 "cells": [
  {
   "cell_type": "code",
   "execution_count": 1,
   "metadata": {},
   "outputs": [
    {
     "output_type": "stream",
     "name": "stdout",
     "text": "Esto es una función\n"
    }
   ],
   "source": [
    "# Indentificador de función y el nombre siempre en mayúsculas\n",
    "def Saludar():\n",
    "    print(\"Esto es una función\")\n",
    "Saludar()\n"
   ]
  },
  {
   "cell_type": "code",
   "execution_count": 3,
   "metadata": {},
   "outputs": [
    {
     "output_type": "stream",
     "name": "stdout",
     "text": "102 es mayor que cero\n"
    }
   ],
   "source": [
    "def EsMayorQueCero(param):\n",
    "    if param >0:\n",
    "        print (param, \"es mayor que cero\")\n",
    "    else:\n",
    "        print (param, \"no es mayor que cero\" )\n",
    "\n",
    "numero = int(input(\"Introduce un número: \"))\n",
    "EsMayorQueCero(numero) # llamamos a la función para que gestione el dato enviado"
   ]
  },
  {
   "cell_type": "code",
   "execution_count": 4,
   "metadata": {},
   "outputs": [
    {
     "output_type": "stream",
     "name": "stdout",
     "text": "El resultado de la suma es:  30\n"
    }
   ],
   "source": [
    "def Sumar(param1, param2):\n",
    "    return param1 + param2\n",
    "\n",
    "sumando1 = int(input(\"Introduce el primer sumando: \"))\n",
    "sumando2 = int(input(\"Introduce el segundo sumando: \"))\n",
    "resultado = Sumar(sumando1, sumando2) # creamos una variable que invoca a la función con los dos parámetros requeridos\n",
    "print(\"El resultado de la suma es: \", resultado)# y terminamo imprimiendo el resultado"
   ]
  },
  {
   "cell_type": "code",
   "execution_count": 7,
   "metadata": {},
   "outputs": [
    {
     "output_type": "stream",
     "name": "stdout",
     "text": "El resultado de la suma es:  107\nEl resultado de la resta es:  -17\n"
    }
   ],
   "source": [
    "def SumarRestar(param1, param2):\n",
    "    return param1 +  param2, param1 - param2\n",
    "\n",
    "numero1 = int(input(\"Introduce el primer número: \"))\n",
    "numero2 = int(input(\"Introduce el segundo numero: \"))\n",
    "resultadosuma,resultadoresta = SumarRestar(numero1, numero2)# creamos dos variable que invoca a la función con los dos parámetros requeridos y los gestionan\n",
    "print(\"El resultado de la suma es: \", resultadosuma)\n",
    "print(\"El resultado de la resta es: \", resultadoresta)"
   ]
  },
  {
   "cell_type": "code",
   "execution_count": 13,
   "metadata": {},
   "outputs": [
    {
     "output_type": "stream",
     "name": "stdout",
     "text": "El resultado de la suma es:  713\n"
    }
   ],
   "source": [
    "def Sumar(*valores):# pasamos como parametro una cantidad de valores definida \n",
    "    resultado = 0\n",
    "    for item in valores:\n",
    "        resultado = resultado + item # mientras tenga valores se iran sumando a la variable resultado\n",
    "    return resultado\n",
    "\n",
    "resultado = Sumar(23,334,45,67,87,67,90)# y aqui pasamos los valores\n",
    "print(\"El resultado de la suma es: \", resultado)"
   ]
  },
  {
   "cell_type": "code",
   "execution_count": 14,
   "metadata": {},
   "outputs": [
    {
     "output_type": "stream",
     "name": "stdout",
     "text": "El resultado de la suma es:  101\nEl resultado de la resta es:  -11\n"
    }
   ],
   "source": [
    "def SumarRestar(param1,param2):\n",
    "    return Sumar(param1,param2), Restar(param1,param2)\n",
    "# esto son funciones anidada, por que la llamamos en la primera en la fución llamada SumarRestar\n",
    "def Sumar(sumando1,sumando2):\n",
    "    return sumando1+sumando2\n",
    "def Restar(minuendo,sustraendo):\n",
    "    return minuendo-sustraendo\n",
    "\n",
    "numero1 = int(input(\"Introduce el primer número: \"))\n",
    "numero2 = int(input(\"Introduce el segundo número: \"))\n",
    "resultadosuma,resultadoresta = SumarRestar(numero1,numero2)\n",
    "print(\"El resultado de la suma es: \", resultadosuma)\n",
    "print(\"El resultado de la resta es: \", resultadoresta)\n",
    "\n"
   ]
  },
  {
   "cell_type": "code",
   "execution_count": null,
   "metadata": {},
   "outputs": [],
   "source": []
  }
 ],
 "metadata": {
  "language_info": {
   "codemirror_mode": {
    "name": "ipython",
    "version": 3
   },
   "file_extension": ".py",
   "mimetype": "text/x-python",
   "name": "python",
   "nbconvert_exporter": "python",
   "pygments_lexer": "ipython3",
   "version": "3.5.2-final"
  },
  "orig_nbformat": 2,
  "kernelspec": {
   "name": "python3",
   "display_name": "Python 3"
  }
 },
 "nbformat": 4,
 "nbformat_minor": 2
}