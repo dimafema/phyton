{
 "cells": [
  {
   "cell_type": "code",
   "execution_count": null,
   "metadata": {},
   "outputs": [],
   "source": [
    "variable = float(input(\"Introduce algo: \"))\n",
    "a = 2\n",
    "print(\"resultado: \",a*variable)"
   ]
  },
  {
   "cell_type": "code",
   "execution_count": null,
   "metadata": {},
   "outputs": [],
   "source": [
    "try:\n",
    "    variable = float(input(\"Introduce un numero: \"))\n",
    "    a = 2\n",
    "    print(\"resultado: \",a*variable)\n",
    "except:\n",
    "    print(\"Ingresaste cualquier otra cosa menos la que se te pidio\")"
   ]
  },
  {
   "cell_type": "code",
   "execution_count": 1,
   "metadata": {},
   "outputs": [
    {
     "name": "stdout",
     "output_type": "stream",
     "text": [
      "Introduce un numero: Alvaro\n",
      "Ingresaste cualquier otra cosa menos la que se te pidio, te voy a dar otra oportunidad\n",
      "Introduce un numero: Estudiantes\n",
      "Ingresaste cualquier otra cosa menos la que se te pidio, te voy a dar otra oportunidad\n",
      "Introduce un numero: 1\n",
      "resultado:  2.0\n"
     ]
    }
   ],
   "source": [
    "while(True):\n",
    "    try:\n",
    "        variable = float(input(\"Introduce un numero: \"))\n",
    "        a = 2\n",
    "        print(\"resultado: \",a*variable)\n",
    "        break\n",
    "    except:\n",
    "        print(\"Ingresaste cualquier otra cosa menos la que se te pidio, te voy a dar otra oportunidad\")"
   ]
  },
  {
   "cell_type": "code",
   "execution_count": 2,
   "metadata": {},
   "outputs": [
    {
     "name": "stdout",
     "output_type": "stream",
     "text": [
      "Introduce un numero: alvaro\n",
      "Ingresaste cualquier otra cosa menos la que se te pidio, te voy a dar otra oportunidad\n",
      "Introduce un numero: 1\n",
      "resultado:  2.0\n",
      "iniciaste sesion perfectamente, amego\n"
     ]
    }
   ],
   "source": [
    "while(True):\n",
    "    try:\n",
    "        variable = float(input(\"Introduce un numero: \"))\n",
    "        a = 2\n",
    "        print(\"resultado: \",a*variable)\n",
    "    except:\n",
    "        print(\"Ingresaste cualquier otra cosa menos la que se te pidio, te voy a dar otra oportunidad\")\n",
    "    else:\n",
    "        print(\"iniciaste sesion perfectamente, amego\")\n",
    "        break"
   ]
  },
  {
   "cell_type": "code",
   "execution_count": 3,
   "metadata": {},
   "outputs": [
    {
     "name": "stdout",
     "output_type": "stream",
     "text": [
      "Introduce un numero: 9\n",
      "resultado:  18.0\n",
      "iniciaste sesion perfectamente, amego\n",
      "Perfecto mi Amigo, termino todo esto.\n"
     ]
    }
   ],
   "source": [
    "while(True):\n",
    "    try:\n",
    "        variable = float(input(\"Introduce un numero: \"))\n",
    "        a = 2\n",
    "        print(\"resultado: \",a*variable)\n",
    "    except:\n",
    "        print(\"Ingresaste cualquier otra cosa menos la que se te pidio, te voy a dar otra oportunidad\")\n",
    "    else:\n",
    "        print(\"iniciaste sesion perfectamente, amego\")\n",
    "        break\n",
    "    finally:\n",
    "        print(\"Perfecto mi Amigo, termino todo esto.\")"
   ]
  },
  {
   "cell_type": "code",
   "execution_count": null,
   "metadata": {},
   "outputs": [],
   "source": []
  }
 ],
 "metadata": {
  "kernelspec": {
   "display_name": "Python 3",
   "language": "python",
   "name": "python3"
  },
  "language_info": {
   "codemirror_mode": {
    "name": "ipython",
    "version": 3
   },
   "file_extension": ".py",
   "mimetype": "text/x-python",
   "name": "python",
   "nbconvert_exporter": "python",
   "pygments_lexer": "ipython3",
   "version": "3.7.3"
  }
 },
 "nbformat": 4,
 "nbformat_minor": 2
}
